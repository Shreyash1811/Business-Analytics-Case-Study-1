{
 "cells": [
  {
   "cell_type": "markdown",
   "metadata": {},
   "source": [
    "# Assignment 1\n",
    "\n",
    "*by- Shreyaskumar Kathiriya*\n",
    "\n",
    "\n",
    "\n",
    "## PROBLEM 1\n",
    "*You are given the closing stock prices of 4 companies for one year. With the help of the\n",
    "what you are being taught in the first class (basic arithmetic in R) answer the following\n",
    "questions*"
   ]
  },
  {
   "cell_type": "markdown",
   "metadata": {},
   "source": [
    "### Preparing the data before analysis:\n"
   ]
  },
  {
   "cell_type": "code",
   "execution_count": 1,
   "metadata": {},
   "outputs": [],
   "source": [
    "#reading the file\n",
    "df = read.csv(\"C:\\\\Users\\\\shrey\\\\OneDrive\\\\Desktop\\\\BUSINESS ANALYTICS\\\\Assignment1_DATA.csv\")"
   ]
  },
  {
   "cell_type": "code",
   "execution_count": 2,
   "metadata": {},
   "outputs": [],
   "source": [
    "#convert Date from Factor to Date \n",
    "colnames(df)[1] = \"Date\"\n",
    "df$Date = as.Date(df$Date,format=\"%d/%m/%Y\")"
   ]
  },
  {
   "cell_type": "code",
   "execution_count": 3,
   "metadata": {},
   "outputs": [
    {
     "name": "stdout",
     "output_type": "stream",
     "text": [
      "package 'dplyr' successfully unpacked and MD5 sums checked\n",
      "\n",
      "The downloaded binary packages are in\n",
      "\tC:\\Users\\Public\\Documents\\Wondershare\\CreatorTemp\\Rtmp0OZYq6\\downloaded_packages\n"
     ]
    },
    {
     "name": "stderr",
     "output_type": "stream",
     "text": [
      "\n",
      "Attaching package: 'dplyr'\n",
      "\n",
      "The following objects are masked from 'package:stats':\n",
      "\n",
      "    filter, lag\n",
      "\n",
      "The following objects are masked from 'package:base':\n",
      "\n",
      "    intersect, setdiff, setequal, union\n",
      "\n"
     ]
    }
   ],
   "source": [
    "install.packages('dplyr')\n",
    "library(dplyr)"
   ]
  },
  {
   "cell_type": "code",
   "execution_count": 187,
   "metadata": {},
   "outputs": [],
   "source": [
    "#arrange the data by ascending date\n",
    "df = arrange(df, df$Date)"
   ]
  },
  {
   "cell_type": "code",
   "execution_count": 188,
   "metadata": {},
   "outputs": [
    {
     "data": {
      "text/html": [
       "<table>\n",
       "<thead><tr><th scope=col>Date</th><th scope=col>AMZN</th><th scope=col>KMX</th><th scope=col>GOOG</th><th scope=col>GE</th></tr></thead>\n",
       "<tbody>\n",
       "\t<tr><td>2017-01-23</td><td>817.88    </td><td>67.13     </td><td>819.31    </td><td>29.75     </td></tr>\n",
       "\t<tr><td>2017-01-24</td><td>822.44    </td><td>68.21     </td><td>823.87    </td><td>30.00     </td></tr>\n",
       "\t<tr><td>2017-01-25</td><td>836.52    </td><td>68.20     </td><td>835.67    </td><td>30.37     </td></tr>\n",
       "\t<tr><td>2017-01-26</td><td>839.15    </td><td>67.67     </td><td>832.15    </td><td>30.32     </td></tr>\n",
       "\t<tr><td>2017-01-27</td><td>835.77    </td><td>67.46     </td><td>823.31    </td><td>30.01     </td></tr>\n",
       "</tbody>\n",
       "</table>\n"
      ],
      "text/latex": [
       "\\begin{tabular}{r|lllll}\n",
       " Date & AMZN & KMX & GOOG & GE\\\\\n",
       "\\hline\n",
       "\t 2017-01-23 & 817.88     & 67.13      & 819.31     & 29.75     \\\\\n",
       "\t 2017-01-24 & 822.44     & 68.21      & 823.87     & 30.00     \\\\\n",
       "\t 2017-01-25 & 836.52     & 68.20      & 835.67     & 30.37     \\\\\n",
       "\t 2017-01-26 & 839.15     & 67.67      & 832.15     & 30.32     \\\\\n",
       "\t 2017-01-27 & 835.77     & 67.46      & 823.31     & 30.01     \\\\\n",
       "\\end{tabular}\n"
      ],
      "text/markdown": [
       "\n",
       "| Date | AMZN | KMX | GOOG | GE |\n",
       "|---|---|---|---|---|\n",
       "| 2017-01-23 | 817.88     | 67.13      | 819.31     | 29.75      |\n",
       "| 2017-01-24 | 822.44     | 68.21      | 823.87     | 30.00      |\n",
       "| 2017-01-25 | 836.52     | 68.20      | 835.67     | 30.37      |\n",
       "| 2017-01-26 | 839.15     | 67.67      | 832.15     | 30.32      |\n",
       "| 2017-01-27 | 835.77     | 67.46      | 823.31     | 30.01      |\n",
       "\n"
      ],
      "text/plain": [
       "  Date       AMZN   KMX   GOOG   GE   \n",
       "1 2017-01-23 817.88 67.13 819.31 29.75\n",
       "2 2017-01-24 822.44 68.21 823.87 30.00\n",
       "3 2017-01-25 836.52 68.20 835.67 30.37\n",
       "4 2017-01-26 839.15 67.67 832.15 30.32\n",
       "5 2017-01-27 835.77 67.46 823.31 30.01"
      ]
     },
     "metadata": {},
     "output_type": "display_data"
    }
   ],
   "source": [
    "head(df,5)"
   ]
  },
  {
   "cell_type": "markdown",
   "metadata": {},
   "source": [
    "### Q 1. Compute the average price of each company’s share for the given year"
   ]
  },
  {
   "cell_type": "code",
   "execution_count": 189,
   "metadata": {},
   "outputs": [
    {
     "name": "stdout",
     "output_type": "stream",
     "text": [
      "The mean for AMZN is 977.5859 \n",
      "The mean for KMX is 65.83 \n",
      "The mean for GOOG is 928.3296 \n",
      "The mean for GE is 25.67647 \n"
     ]
    }
   ],
   "source": [
    "for (a in 2:5){\n",
    "    cat(\"The mean for\",colnames(df)[a],\"is\",mean(df[,a]),\"\\n\")\n",
    "}"
   ]
  },
  {
   "cell_type": "markdown",
   "metadata": {},
   "source": [
    "###### Above shown are the mean price for the given stocks"
   ]
  },
  {
   "cell_type": "markdown",
   "metadata": {},
   "source": [
    "### Q 2. What are the data types of all the variables in the dataset?"
   ]
  },
  {
   "cell_type": "code",
   "execution_count": 190,
   "metadata": {},
   "outputs": [
    {
     "name": "stdout",
     "output_type": "stream",
     "text": [
      "'data.frame':\t238 obs. of  5 variables:\n",
      " $ Date: Date, format: \"2017-01-23\" \"2017-01-24\" ...\n",
      " $ AMZN: num  818 822 837 839 836 ...\n",
      " $ KMX : num  67.1 68.2 68.2 67.7 67.5 ...\n",
      " $ GOOG: num  819 824 836 832 823 ...\n",
      " $ GE  : num  29.8 30 30.4 30.3 30 ...\n"
     ]
    }
   ],
   "source": [
    "str(df)"
   ]
  },
  {
   "cell_type": "code",
   "execution_count": 191,
   "metadata": {},
   "outputs": [
    {
     "name": "stdout",
     "output_type": "stream",
     "text": [
      "Date type for  Date is Date \n",
      "Date type for  AMZN is numeric \n",
      "Date type for  KMX is numeric \n",
      "Date type for  GOOG is numeric \n",
      "Date type for  GE is numeric \n"
     ]
    }
   ],
   "source": [
    "for(a in 1:5){\n",
    "  cat(\"Date type for \",colnames(df[a]),\"is\",class(df[,a]),\"\\n\")\n",
    "}\n"
   ]
  },
  {
   "cell_type": "code",
   "execution_count": 192,
   "metadata": {},
   "outputs": [
    {
     "name": "stdout",
     "output_type": "stream",
     "text": [
      "Date type for Date double \n",
      "Date type for AMZN double \n",
      "Date type for KMX double \n",
      "Date type for GOOG double \n",
      "Date type for GE double \n"
     ]
    }
   ],
   "source": [
    "#date are internally stored as double in R\n",
    "for(a in 1:5){\n",
    "  cat(\"Date type for\",colnames(df[a]),typeof(df[,a]),\"\\n\")\n",
    "}"
   ]
  },
  {
   "cell_type": "markdown",
   "metadata": {},
   "source": [
    "### Q3. Calculate the returns for each company’s share for the given year on daily basis.\n"
   ]
  },
  {
   "cell_type": "code",
   "execution_count": 193,
   "metadata": {},
   "outputs": [],
   "source": [
    "\n",
    "\n",
    "#return for AMZN\n",
    "\n",
    "for(a in (1:nrow(df))){\n",
    "  df$return.AMZN[a] = (df$AMZN[a] -df$AMZN[a-1])/df$AMZN[a-1]\n",
    "}\n",
    "\n",
    "#return for KMX\n",
    "\n",
    "for(a in (1:nrow(df))){\n",
    "  df$return.KMX[a] = (df$KMX[a] -df$KMX[a-1])/df$KMX[a-1]\n",
    "}\n",
    "\n",
    "#return for GOOG\n",
    "\n",
    "for(a in (1:nrow(df))){\n",
    "  df$return.GOOG[a] = (df$GOOG[a] -df$GOOG[a-1])/df$GOOG[a-1]\n",
    "}\n",
    "\n",
    "#return for GE\n",
    "\n",
    "for(a in (1:nrow(df))){\n",
    "  df$return.GE[a] = (df$GE[a] -df$GE[a-1])/df$GE[a-1]\n",
    "}\n"
   ]
  },
  {
   "cell_type": "code",
   "execution_count": 194,
   "metadata": {},
   "outputs": [
    {
     "data": {
      "text/html": [
       "<table>\n",
       "<thead><tr><th scope=col>Date</th><th scope=col>return.AMZN</th><th scope=col>return.KMX</th><th scope=col>return.GOOG</th><th scope=col>return.GE</th></tr></thead>\n",
       "<tbody>\n",
       "\t<tr><td>2017-01-23   </td><td>          NA </td><td>           NA</td><td>          NA </td><td>           NA</td></tr>\n",
       "\t<tr><td>2017-01-24   </td><td> 0.005575390 </td><td> 0.0160881871</td><td> 0.005565659 </td><td> 0.0084033613</td></tr>\n",
       "\t<tr><td>2017-01-25   </td><td> 0.017119790 </td><td>-0.0001466061</td><td> 0.014322648 </td><td> 0.0123333333</td></tr>\n",
       "\t<tr><td>2017-01-26   </td><td> 0.003143977 </td><td>-0.0077712610</td><td>-0.004212189 </td><td>-0.0016463615</td></tr>\n",
       "\t<tr><td>2017-01-27   </td><td>-0.004027885 </td><td>-0.0031032954</td><td>-0.010623085 </td><td>-0.0102242744</td></tr>\n",
       "\t<tr><td>2017-01-30   </td><td>-0.006449143 </td><td>-0.0084494515</td><td>-0.025494650 </td><td>-0.0016661113</td></tr>\n",
       "\t<tr><td>2017-01-31   </td><td>-0.008309449 </td><td>-0.0026909852</td><td>-0.006892512 </td><td>-0.0086782377</td></tr>\n",
       "\t<tr><td>2017-02-01   </td><td> 0.010771361 </td><td>-0.0227851896</td><td>-0.001374264 </td><td>-0.0003367003</td></tr>\n",
       "\t<tr><td>2017-02-02   </td><td> 0.009130774 </td><td>-0.0029145574</td><td> 0.003562923 </td><td>-0.0003368137</td></tr>\n",
       "\t<tr><td>2017-02-03   </td><td>-0.035418775 </td><td> 0.0106153846</td><td> 0.003706811 </td><td> 0.0006738544</td></tr>\n",
       "</tbody>\n",
       "</table>\n"
      ],
      "text/latex": [
       "\\begin{tabular}{r|lllll}\n",
       " Date & return.AMZN & return.KMX & return.GOOG & return.GE\\\\\n",
       "\\hline\n",
       "\t 2017-01-23    &           NA  &            NA &           NA  &            NA\\\\\n",
       "\t 2017-01-24    &  0.005575390  &  0.0160881871 &  0.005565659  &  0.0084033613\\\\\n",
       "\t 2017-01-25    &  0.017119790  & -0.0001466061 &  0.014322648  &  0.0123333333\\\\\n",
       "\t 2017-01-26    &  0.003143977  & -0.0077712610 & -0.004212189  & -0.0016463615\\\\\n",
       "\t 2017-01-27    & -0.004027885  & -0.0031032954 & -0.010623085  & -0.0102242744\\\\\n",
       "\t 2017-01-30    & -0.006449143  & -0.0084494515 & -0.025494650  & -0.0016661113\\\\\n",
       "\t 2017-01-31    & -0.008309449  & -0.0026909852 & -0.006892512  & -0.0086782377\\\\\n",
       "\t 2017-02-01    &  0.010771361  & -0.0227851896 & -0.001374264  & -0.0003367003\\\\\n",
       "\t 2017-02-02    &  0.009130774  & -0.0029145574 &  0.003562923  & -0.0003368137\\\\\n",
       "\t 2017-02-03    & -0.035418775  &  0.0106153846 &  0.003706811  &  0.0006738544\\\\\n",
       "\\end{tabular}\n"
      ],
      "text/markdown": [
       "\n",
       "| Date | return.AMZN | return.KMX | return.GOOG | return.GE |\n",
       "|---|---|---|---|---|\n",
       "| 2017-01-23    |           NA  |            NA |           NA  |            NA |\n",
       "| 2017-01-24    |  0.005575390  |  0.0160881871 |  0.005565659  |  0.0084033613 |\n",
       "| 2017-01-25    |  0.017119790  | -0.0001466061 |  0.014322648  |  0.0123333333 |\n",
       "| 2017-01-26    |  0.003143977  | -0.0077712610 | -0.004212189  | -0.0016463615 |\n",
       "| 2017-01-27    | -0.004027885  | -0.0031032954 | -0.010623085  | -0.0102242744 |\n",
       "| 2017-01-30    | -0.006449143  | -0.0084494515 | -0.025494650  | -0.0016661113 |\n",
       "| 2017-01-31    | -0.008309449  | -0.0026909852 | -0.006892512  | -0.0086782377 |\n",
       "| 2017-02-01    |  0.010771361  | -0.0227851896 | -0.001374264  | -0.0003367003 |\n",
       "| 2017-02-02    |  0.009130774  | -0.0029145574 |  0.003562923  | -0.0003368137 |\n",
       "| 2017-02-03    | -0.035418775  |  0.0106153846 |  0.003706811  |  0.0006738544 |\n",
       "\n"
      ],
      "text/plain": [
       "   Date       return.AMZN  return.KMX    return.GOOG  return.GE    \n",
       "1  2017-01-23           NA            NA           NA            NA\n",
       "2  2017-01-24  0.005575390  0.0160881871  0.005565659  0.0084033613\n",
       "3  2017-01-25  0.017119790 -0.0001466061  0.014322648  0.0123333333\n",
       "4  2017-01-26  0.003143977 -0.0077712610 -0.004212189 -0.0016463615\n",
       "5  2017-01-27 -0.004027885 -0.0031032954 -0.010623085 -0.0102242744\n",
       "6  2017-01-30 -0.006449143 -0.0084494515 -0.025494650 -0.0016661113\n",
       "7  2017-01-31 -0.008309449 -0.0026909852 -0.006892512 -0.0086782377\n",
       "8  2017-02-01  0.010771361 -0.0227851896 -0.001374264 -0.0003367003\n",
       "9  2017-02-02  0.009130774 -0.0029145574  0.003562923 -0.0003368137\n",
       "10 2017-02-03 -0.035418775  0.0106153846  0.003706811  0.0006738544"
      ]
     },
     "metadata": {},
     "output_type": "display_data"
    }
   ],
   "source": [
    "#Daily Stock Return \n",
    "head(df[,c(1,6:9)],10)"
   ]
  },
  {
   "cell_type": "markdown",
   "metadata": {},
   "source": [
    "#### *above sliced data frame is return for the stocks*"
   ]
  },
  {
   "cell_type": "markdown",
   "metadata": {},
   "source": [
    "### Q 4. Calculate the cumulative returns for each company’s share for the given year.\n",
    "`"
   ]
  },
  {
   "cell_type": "code",
   "execution_count": 197,
   "metadata": {
    "scrolled": true
   },
   "outputs": [
    {
     "name": "stdout",
     "output_type": "stream",
     "text": [
      "The Total return for AMZN over year is: 347.03 $ \n",
      "The Total return for KMX over year is: -4.08 $ \n",
      "The Total return for GOOG over year is: 222.53 $ \n",
      "The Total return for GE over year is: -12.55 $ \n"
     ]
    }
   ],
   "source": [
    "\n",
    "for(a in 2:5){\n",
    "  cat(\"The Total return for\",colnames(df[a]),\"over year is:\",(df[,a][nrow(df)]- df[,a][2]),\"$\",\"\\n\")\n",
    "}\n"
   ]
  },
  {
   "cell_type": "code",
   "execution_count": 198,
   "metadata": {},
   "outputs": [
    {
     "name": "stdout",
     "output_type": "stream",
     "text": [
      "[1] \"Top 20 rows of the Dataset\"\n"
     ]
    },
    {
     "data": {
      "text/html": [
       "<table>\n",
       "<thead><tr><th></th><th scope=col>CUM.AMZN</th><th scope=col>CUM.KMX</th><th scope=col>CUM.GOOG</th><th scope=col>CUM.GE</th></tr></thead>\n",
       "<tbody>\n",
       "\t<tr><th scope=row>2</th><td> 0.005575390</td><td> 0.016088187</td><td> 0.005565659</td><td> 0.008403361</td></tr>\n",
       "\t<tr><th scope=row>3</th><td> 0.022695180</td><td> 0.015941581</td><td> 0.019888307</td><td> 0.020736695</td></tr>\n",
       "\t<tr><th scope=row>4</th><td> 0.025839157</td><td> 0.008170320</td><td> 0.015676118</td><td> 0.019090333</td></tr>\n",
       "\t<tr><th scope=row>5</th><td> 0.021811272</td><td> 0.005067025</td><td> 0.005053033</td><td> 0.008866059</td></tr>\n",
       "\t<tr><th scope=row>6</th><td> 0.015362129</td><td>-0.003382427</td><td>-0.020441617</td><td> 0.007199947</td></tr>\n",
       "\t<tr><th scope=row>7</th><td> 0.007052681</td><td>-0.006073412</td><td>-0.027334128</td><td>-0.001478290</td></tr>\n",
       "\t<tr><th scope=row>8</th><td> 0.017824041</td><td>-0.028858602</td><td>-0.028708393</td><td>-0.001814991</td></tr>\n",
       "\t<tr><th scope=row>9</th><td> 0.026954815</td><td>-0.031773159</td><td>-0.025145470</td><td>-0.002151804</td></tr>\n",
       "\t<tr><th scope=row>10</th><td>-0.008463959</td><td>-0.021157775</td><td>-0.021438658</td><td>-0.001477950</td></tr>\n",
       "\t<tr><th scope=row>11</th><td>-0.011623673</td><td>-0.029987125</td><td>-0.021625810</td><td>-0.002824751</td></tr>\n",
       "</tbody>\n",
       "</table>\n"
      ],
      "text/latex": [
       "\\begin{tabular}{r|llll}\n",
       "  & CUM.AMZN & CUM.KMX & CUM.GOOG & CUM.GE\\\\\n",
       "\\hline\n",
       "\t2 &  0.005575390 &  0.016088187 &  0.005565659 &  0.008403361\\\\\n",
       "\t3 &  0.022695180 &  0.015941581 &  0.019888307 &  0.020736695\\\\\n",
       "\t4 &  0.025839157 &  0.008170320 &  0.015676118 &  0.019090333\\\\\n",
       "\t5 &  0.021811272 &  0.005067025 &  0.005053033 &  0.008866059\\\\\n",
       "\t6 &  0.015362129 & -0.003382427 & -0.020441617 &  0.007199947\\\\\n",
       "\t7 &  0.007052681 & -0.006073412 & -0.027334128 & -0.001478290\\\\\n",
       "\t8 &  0.017824041 & -0.028858602 & -0.028708393 & -0.001814991\\\\\n",
       "\t9 &  0.026954815 & -0.031773159 & -0.025145470 & -0.002151804\\\\\n",
       "\t10 & -0.008463959 & -0.021157775 & -0.021438658 & -0.001477950\\\\\n",
       "\t11 & -0.011623673 & -0.029987125 & -0.021625810 & -0.002824751\\\\\n",
       "\\end{tabular}\n"
      ],
      "text/markdown": [
       "\n",
       "| <!--/--> | CUM.AMZN | CUM.KMX | CUM.GOOG | CUM.GE |\n",
       "|---|---|---|---|---|\n",
       "| 2 |  0.005575390 |  0.016088187 |  0.005565659 |  0.008403361 |\n",
       "| 3 |  0.022695180 |  0.015941581 |  0.019888307 |  0.020736695 |\n",
       "| 4 |  0.025839157 |  0.008170320 |  0.015676118 |  0.019090333 |\n",
       "| 5 |  0.021811272 |  0.005067025 |  0.005053033 |  0.008866059 |\n",
       "| 6 |  0.015362129 | -0.003382427 | -0.020441617 |  0.007199947 |\n",
       "| 7 |  0.007052681 | -0.006073412 | -0.027334128 | -0.001478290 |\n",
       "| 8 |  0.017824041 | -0.028858602 | -0.028708393 | -0.001814991 |\n",
       "| 9 |  0.026954815 | -0.031773159 | -0.025145470 | -0.002151804 |\n",
       "| 10 | -0.008463959 | -0.021157775 | -0.021438658 | -0.001477950 |\n",
       "| 11 | -0.011623673 | -0.029987125 | -0.021625810 | -0.002824751 |\n",
       "\n"
      ],
      "text/plain": [
       "   CUM.AMZN     CUM.KMX      CUM.GOOG     CUM.GE      \n",
       "2   0.005575390  0.016088187  0.005565659  0.008403361\n",
       "3   0.022695180  0.015941581  0.019888307  0.020736695\n",
       "4   0.025839157  0.008170320  0.015676118  0.019090333\n",
       "5   0.021811272  0.005067025  0.005053033  0.008866059\n",
       "6   0.015362129 -0.003382427 -0.020441617  0.007199947\n",
       "7   0.007052681 -0.006073412 -0.027334128 -0.001478290\n",
       "8   0.017824041 -0.028858602 -0.028708393 -0.001814991\n",
       "9   0.026954815 -0.031773159 -0.025145470 -0.002151804\n",
       "10 -0.008463959 -0.021157775 -0.021438658 -0.001477950\n",
       "11 -0.011623673 -0.029987125 -0.021625810 -0.002824751"
      ]
     },
     "metadata": {},
     "output_type": "display_data"
    },
    {
     "name": "stdout",
     "output_type": "stream",
     "text": [
      "[1] \"bottom 20 rows of Dataset\"\n"
     ]
    },
    {
     "data": {
      "text/html": [
       "<table>\n",
       "<thead><tr><th></th><th scope=col>CUM.AMZN</th><th scope=col>CUM.KMX</th><th scope=col>CUM.GOOG</th><th scope=col>CUM.GE</th></tr></thead>\n",
       "<tbody>\n",
       "\t<tr><th scope=row>229</th><td>0.3861410   </td><td> 0.033933258</td><td>0.2728649   </td><td>-0.4928024  </td></tr>\n",
       "\t<tr><th scope=row>230</th><td>0.3958430   </td><td> 0.045597217</td><td>0.2850338   </td><td>-0.4961694  </td></tr>\n",
       "\t<tr><th scope=row>231</th><td>0.3931552   </td><td> 0.035819050</td><td>0.2790365   </td><td>-0.5057414  </td></tr>\n",
       "\t<tr><th scope=row>232</th><td>0.3849355   </td><td> 0.044956854</td><td>0.2736847   </td><td>-0.5137005  </td></tr>\n",
       "\t<tr><th scope=row>233</th><td>0.3825068   </td><td> 0.008882661</td><td>0.2724452   </td><td>-0.5125544  </td></tr>\n",
       "\t<tr><th scope=row>234</th><td>0.3770589   </td><td>-0.002784005</td><td>0.2691452   </td><td>-0.5108371  </td></tr>\n",
       "\t<tr><th scope=row>235</th><td>0.3842485   </td><td> 0.002121713</td><td>0.2659569   </td><td>-0.5148371  </td></tr>\n",
       "\t<tr><th scope=row>236</th><td>0.3889223   </td><td>-0.007641826</td><td>0.2589826   </td><td>-0.5177058  </td></tr>\n",
       "\t<tr><th scope=row>237</th><td>0.3921703   </td><td>-0.009182421</td><td>0.2578105   </td><td>-0.5188565  </td></tr>\n",
       "\t<tr><th scope=row>238</th><td>0.3781496   </td><td>-0.019674629</td><td>0.2561504   </td><td>-0.5136722  </td></tr>\n",
       "</tbody>\n",
       "</table>\n"
      ],
      "text/latex": [
       "\\begin{tabular}{r|llll}\n",
       "  & CUM.AMZN & CUM.KMX & CUM.GOOG & CUM.GE\\\\\n",
       "\\hline\n",
       "\t229 & 0.3861410    &  0.033933258 & 0.2728649    & -0.4928024  \\\\\n",
       "\t230 & 0.3958430    &  0.045597217 & 0.2850338    & -0.4961694  \\\\\n",
       "\t231 & 0.3931552    &  0.035819050 & 0.2790365    & -0.5057414  \\\\\n",
       "\t232 & 0.3849355    &  0.044956854 & 0.2736847    & -0.5137005  \\\\\n",
       "\t233 & 0.3825068    &  0.008882661 & 0.2724452    & -0.5125544  \\\\\n",
       "\t234 & 0.3770589    & -0.002784005 & 0.2691452    & -0.5108371  \\\\\n",
       "\t235 & 0.3842485    &  0.002121713 & 0.2659569    & -0.5148371  \\\\\n",
       "\t236 & 0.3889223    & -0.007641826 & 0.2589826    & -0.5177058  \\\\\n",
       "\t237 & 0.3921703    & -0.009182421 & 0.2578105    & -0.5188565  \\\\\n",
       "\t238 & 0.3781496    & -0.019674629 & 0.2561504    & -0.5136722  \\\\\n",
       "\\end{tabular}\n"
      ],
      "text/markdown": [
       "\n",
       "| <!--/--> | CUM.AMZN | CUM.KMX | CUM.GOOG | CUM.GE |\n",
       "|---|---|---|---|---|\n",
       "| 229 | 0.3861410    |  0.033933258 | 0.2728649    | -0.4928024   |\n",
       "| 230 | 0.3958430    |  0.045597217 | 0.2850338    | -0.4961694   |\n",
       "| 231 | 0.3931552    |  0.035819050 | 0.2790365    | -0.5057414   |\n",
       "| 232 | 0.3849355    |  0.044956854 | 0.2736847    | -0.5137005   |\n",
       "| 233 | 0.3825068    |  0.008882661 | 0.2724452    | -0.5125544   |\n",
       "| 234 | 0.3770589    | -0.002784005 | 0.2691452    | -0.5108371   |\n",
       "| 235 | 0.3842485    |  0.002121713 | 0.2659569    | -0.5148371   |\n",
       "| 236 | 0.3889223    | -0.007641826 | 0.2589826    | -0.5177058   |\n",
       "| 237 | 0.3921703    | -0.009182421 | 0.2578105    | -0.5188565   |\n",
       "| 238 | 0.3781496    | -0.019674629 | 0.2561504    | -0.5136722   |\n",
       "\n"
      ],
      "text/plain": [
       "    CUM.AMZN  CUM.KMX      CUM.GOOG  CUM.GE    \n",
       "229 0.3861410  0.033933258 0.2728649 -0.4928024\n",
       "230 0.3958430  0.045597217 0.2850338 -0.4961694\n",
       "231 0.3931552  0.035819050 0.2790365 -0.5057414\n",
       "232 0.3849355  0.044956854 0.2736847 -0.5137005\n",
       "233 0.3825068  0.008882661 0.2724452 -0.5125544\n",
       "234 0.3770589 -0.002784005 0.2691452 -0.5108371\n",
       "235 0.3842485  0.002121713 0.2659569 -0.5148371\n",
       "236 0.3889223 -0.007641826 0.2589826 -0.5177058\n",
       "237 0.3921703 -0.009182421 0.2578105 -0.5188565\n",
       "238 0.3781496 -0.019674629 0.2561504 -0.5136722"
      ]
     },
     "metadata": {},
     "output_type": "display_data"
    }
   ],
   "source": [
    "\n",
    "#Taking the first NA row off\n",
    "df_cumulative = df[-1,]\n",
    "\n",
    "#Running cumsum function over the return columns to get their cumulative returns \n",
    "df_cumulative$CUM.AMZN = cumsum(df_cumulative$return.AMZN)\n",
    "df_cumulative$CUM.KMX = cumsum(df_cumulative$return.KMX)\n",
    "df_cumulative$CUM.GOOG = cumsum(df_cumulative$return.GOOG)\n",
    "df_cumulative$CUM.GE = cumsum(df_cumulative$return.GE)\n",
    "\n",
    "print(\"Top 20 rows of the Dataset\")\n",
    "head(df_cumulative,10)[,10:13]\n",
    "print(\"bottom 20 rows of Dataset\")\n",
    "tail(df_cumulative,10)[,10:13]"
   ]
  },
  {
   "cell_type": "markdown",
   "metadata": {},
   "source": [
    "#### Above is date frame of cumulative return of each stock "
   ]
  },
  {
   "cell_type": "markdown",
   "metadata": {},
   "source": [
    "### Q 5. Find out the top 5 top returns for the given year.\n"
   ]
  },
  {
   "cell_type": "code",
   "execution_count": 199,
   "metadata": {},
   "outputs": [
    {
     "name": "stdout",
     "output_type": "stream",
     "text": [
      "[1] \"TOP 5 RETURN OF THE STOCKS\"\n"
     ]
    },
    {
     "data": {
      "text/html": [
       "<table>\n",
       "<thead><tr><th></th><th scope=col>Date</th><th scope=col>return.AMZN</th></tr></thead>\n",
       "<tbody>\n",
       "\t<tr><th scope=row>47</th><td>2017-03-29</td><td>0.02140187</td></tr>\n",
       "\t<tr><th scope=row>102</th><td>2017-06-16</td><td>0.02441478</td></tr>\n",
       "\t<tr><th scope=row>69</th><td>2017-05-01</td><td>0.02512460</td></tr>\n",
       "\t<tr><th scope=row>214</th><td>2017-11-24</td><td>0.02580958</td></tr>\n",
       "\t<tr><th scope=row>195</th><td>2017-10-27</td><td>0.13216375</td></tr>\n",
       "</tbody>\n",
       "</table>\n"
      ],
      "text/latex": [
       "\\begin{tabular}{r|ll}\n",
       "  & Date & return.AMZN\\\\\n",
       "\\hline\n",
       "\t47 & 2017-03-29 & 0.02140187\\\\\n",
       "\t102 & 2017-06-16 & 0.02441478\\\\\n",
       "\t69 & 2017-05-01 & 0.02512460\\\\\n",
       "\t214 & 2017-11-24 & 0.02580958\\\\\n",
       "\t195 & 2017-10-27 & 0.13216375\\\\\n",
       "\\end{tabular}\n"
      ],
      "text/markdown": [
       "\n",
       "| <!--/--> | Date | return.AMZN |\n",
       "|---|---|---|\n",
       "| 47 | 2017-03-29 | 0.02140187 |\n",
       "| 102 | 2017-06-16 | 0.02441478 |\n",
       "| 69 | 2017-05-01 | 0.02512460 |\n",
       "| 214 | 2017-11-24 | 0.02580958 |\n",
       "| 195 | 2017-10-27 | 0.13216375 |\n",
       "\n"
      ],
      "text/plain": [
       "    Date       return.AMZN\n",
       "47  2017-03-29 0.02140187 \n",
       "102 2017-06-16 0.02441478 \n",
       "69  2017-05-01 0.02512460 \n",
       "214 2017-11-24 0.02580958 \n",
       "195 2017-10-27 0.13216375 "
      ]
     },
     "metadata": {},
     "output_type": "display_data"
    },
    {
     "data": {
      "text/html": [
       "<table>\n",
       "<thead><tr><th></th><th scope=col>Date</th><th scope=col>return.KMX</th></tr></thead>\n",
       "<tbody>\n",
       "\t<tr><th scope=row>220</th><td>2017-12-04</td><td>0.03407429</td></tr>\n",
       "\t<tr><th scope=row>154</th><td>2017-08-30</td><td>0.03823159</td></tr>\n",
       "\t<tr><th scope=row>106</th><td>2017-06-22</td><td>0.04620020</td></tr>\n",
       "\t<tr><th scope=row>82</th><td>2017-05-18</td><td>0.06147951</td></tr>\n",
       "\t<tr><th scope=row>170</th><td>2017-09-22</td><td>0.07771644</td></tr>\n",
       "</tbody>\n",
       "</table>\n"
      ],
      "text/latex": [
       "\\begin{tabular}{r|ll}\n",
       "  & Date & return.KMX\\\\\n",
       "\\hline\n",
       "\t220 & 2017-12-04 & 0.03407429\\\\\n",
       "\t154 & 2017-08-30 & 0.03823159\\\\\n",
       "\t106 & 2017-06-22 & 0.04620020\\\\\n",
       "\t82 & 2017-05-18 & 0.06147951\\\\\n",
       "\t170 & 2017-09-22 & 0.07771644\\\\\n",
       "\\end{tabular}\n"
      ],
      "text/markdown": [
       "\n",
       "| <!--/--> | Date | return.KMX |\n",
       "|---|---|---|\n",
       "| 220 | 2017-12-04 | 0.03407429 |\n",
       "| 154 | 2017-08-30 | 0.03823159 |\n",
       "| 106 | 2017-06-22 | 0.04620020 |\n",
       "| 82 | 2017-05-18 | 0.06147951 |\n",
       "| 170 | 2017-09-22 | 0.07771644 |\n",
       "\n"
      ],
      "text/plain": [
       "    Date       return.KMX\n",
       "220 2017-12-04 0.03407429\n",
       "154 2017-08-30 0.03823159\n",
       "106 2017-06-22 0.04620020\n",
       "82  2017-05-18 0.06147951\n",
       "170 2017-09-22 0.07771644"
      ]
     },
     "metadata": {},
     "output_type": "display_data"
    },
    {
     "data": {
      "text/html": [
       "<table>\n",
       "<thead><tr><th></th><th scope=col>Date</th><th scope=col>return.GOOG</th></tr></thead>\n",
       "<tbody>\n",
       "\t<tr><th scope=row>148</th><td>2017-08-22</td><td>0.01988618</td></tr>\n",
       "\t<tr><th scope=row>173</th><td>2017-09-27</td><td>0.02122483</td></tr>\n",
       "\t<tr><th scope=row>64</th><td>2017-04-24</td><td>0.02320948</td></tr>\n",
       "\t<tr><th scope=row>68</th><td>2017-04-28</td><td>0.03627109</td></tr>\n",
       "\t<tr><th scope=row>195</th><td>2017-10-27</td><td>0.04802789</td></tr>\n",
       "</tbody>\n",
       "</table>\n"
      ],
      "text/latex": [
       "\\begin{tabular}{r|ll}\n",
       "  & Date & return.GOOG\\\\\n",
       "\\hline\n",
       "\t148 & 2017-08-22 & 0.01988618\\\\\n",
       "\t173 & 2017-09-27 & 0.02122483\\\\\n",
       "\t64 & 2017-04-24 & 0.02320948\\\\\n",
       "\t68 & 2017-04-28 & 0.03627109\\\\\n",
       "\t195 & 2017-10-27 & 0.04802789\\\\\n",
       "\\end{tabular}\n"
      ],
      "text/markdown": [
       "\n",
       "| <!--/--> | Date | return.GOOG |\n",
       "|---|---|---|\n",
       "| 148 | 2017-08-22 | 0.01988618 |\n",
       "| 173 | 2017-09-27 | 0.02122483 |\n",
       "| 64 | 2017-04-24 | 0.02320948 |\n",
       "| 68 | 2017-04-28 | 0.03627109 |\n",
       "| 195 | 2017-10-27 | 0.04802789 |\n",
       "\n"
      ],
      "text/plain": [
       "    Date       return.GOOG\n",
       "148 2017-08-22 0.01988618 \n",
       "173 2017-09-27 0.02122483 \n",
       "64  2017-04-24 0.02320948 \n",
       "68  2017-04-28 0.03627109 \n",
       "195 2017-10-27 0.04802789 "
      ]
     },
     "metadata": {},
     "output_type": "display_data"
    },
    {
     "data": {
      "text/html": [
       "<table>\n",
       "<thead><tr><th></th><th scope=col>Date</th><th scope=col>return.GE</th></tr></thead>\n",
       "<tbody>\n",
       "\t<tr><th scope=row>34</th><td>2017-03-10</td><td>0.02090357</td></tr>\n",
       "\t<tr><th scope=row>166</th><td>2017-09-18</td><td>0.02214793</td></tr>\n",
       "\t<tr><th scope=row>156</th><td>2017-09-01</td><td>0.02403259</td></tr>\n",
       "\t<tr><th scope=row>205</th><td>2017-11-10</td><td>0.02501251</td></tr>\n",
       "\t<tr><th scope=row>98</th><td>2017-06-12</td><td>0.03579098</td></tr>\n",
       "</tbody>\n",
       "</table>\n"
      ],
      "text/latex": [
       "\\begin{tabular}{r|ll}\n",
       "  & Date & return.GE\\\\\n",
       "\\hline\n",
       "\t34 & 2017-03-10 & 0.02090357\\\\\n",
       "\t166 & 2017-09-18 & 0.02214793\\\\\n",
       "\t156 & 2017-09-01 & 0.02403259\\\\\n",
       "\t205 & 2017-11-10 & 0.02501251\\\\\n",
       "\t98 & 2017-06-12 & 0.03579098\\\\\n",
       "\\end{tabular}\n"
      ],
      "text/markdown": [
       "\n",
       "| <!--/--> | Date | return.GE |\n",
       "|---|---|---|\n",
       "| 34 | 2017-03-10 | 0.02090357 |\n",
       "| 166 | 2017-09-18 | 0.02214793 |\n",
       "| 156 | 2017-09-01 | 0.02403259 |\n",
       "| 205 | 2017-11-10 | 0.02501251 |\n",
       "| 98 | 2017-06-12 | 0.03579098 |\n",
       "\n"
      ],
      "text/plain": [
       "    Date       return.GE \n",
       "34  2017-03-10 0.02090357\n",
       "166 2017-09-18 0.02214793\n",
       "156 2017-09-01 0.02403259\n",
       "205 2017-11-10 0.02501251\n",
       "98  2017-06-12 0.03579098"
      ]
     },
     "metadata": {},
     "output_type": "display_data"
    }
   ],
   "source": [
    "#problem 1.5\n",
    "print(\"TOP 5 RETURN OF THE STOCKS\")\n",
    "tail(df[order(df$return.AMZN,na.last = F),],5)[,c(\"Date\",\"return.AMZN\")]\n",
    "\n",
    "tail(df[order(df$return.KMX,na.last = F),],5)[,c(\"Date\",\"return.KMX\")]\n",
    "\n",
    "tail(df[order(df$return.GOOG,na.last = F),],5)[,c(\"Date\",\"return.GOOG\")]\n",
    "\n",
    "tail(df[order(df$return.GE,na.last = F),],5)[,c(\"Date\",\"return.GE\")]\n"
   ]
  },
  {
   "cell_type": "markdown",
   "metadata": {},
   "source": [
    "##### Above are the top 5 returns of the stocks with their date of occurance."
   ]
  },
  {
   "cell_type": "markdown",
   "metadata": {},
   "source": [
    "### Q 6. Find out the top 5 worst returns for the given year"
   ]
  },
  {
   "cell_type": "code",
   "execution_count": 200,
   "metadata": {
    "scrolled": false
   },
   "outputs": [
    {
     "name": "stdout",
     "output_type": "stream",
     "text": [
      "[1] \"WORST 5 RETURN OF THE STOCKS\"\n"
     ]
    },
    {
     "data": {
      "text/html": [
       "<table>\n",
       "<thead><tr><th></th><th scope=col>Date</th><th scope=col>return.AMZN</th></tr></thead>\n",
       "<tbody>\n",
       "\t<tr><th scope=row>1</th><td>2017-01-23 </td><td>         NA</td></tr>\n",
       "\t<tr><th scope=row>10</th><td>2017-02-03 </td><td>-0.03541877</td></tr>\n",
       "\t<tr><th scope=row>97</th><td>2017-06-09 </td><td>-0.03163511</td></tr>\n",
       "\t<tr><th scope=row>132</th><td>2017-07-31 </td><td>-0.03162621</td></tr>\n",
       "\t<tr><th scope=row>217</th><td>2017-11-29 </td><td>-0.02708613</td></tr>\n",
       "\t<tr><th scope=row>140</th><td>2017-08-10 </td><td>-0.02554964</td></tr>\n",
       "</tbody>\n",
       "</table>\n"
      ],
      "text/latex": [
       "\\begin{tabular}{r|ll}\n",
       "  & Date & return.AMZN\\\\\n",
       "\\hline\n",
       "\t1 & 2017-01-23  &          NA\\\\\n",
       "\t10 & 2017-02-03  & -0.03541877\\\\\n",
       "\t97 & 2017-06-09  & -0.03163511\\\\\n",
       "\t132 & 2017-07-31  & -0.03162621\\\\\n",
       "\t217 & 2017-11-29  & -0.02708613\\\\\n",
       "\t140 & 2017-08-10  & -0.02554964\\\\\n",
       "\\end{tabular}\n"
      ],
      "text/markdown": [
       "\n",
       "| <!--/--> | Date | return.AMZN |\n",
       "|---|---|---|\n",
       "| 1 | 2017-01-23  |          NA |\n",
       "| 10 | 2017-02-03  | -0.03541877 |\n",
       "| 97 | 2017-06-09  | -0.03163511 |\n",
       "| 132 | 2017-07-31  | -0.03162621 |\n",
       "| 217 | 2017-11-29  | -0.02708613 |\n",
       "| 140 | 2017-08-10  | -0.02554964 |\n",
       "\n"
      ],
      "text/plain": [
       "    Date       return.AMZN\n",
       "1   2017-01-23          NA\n",
       "10  2017-02-03 -0.03541877\n",
       "97  2017-06-09 -0.03163511\n",
       "132 2017-07-31 -0.03162621\n",
       "217 2017-11-29 -0.02708613\n",
       "140 2017-08-10 -0.02554964"
      ]
     },
     "metadata": {},
     "output_type": "display_data"
    },
    {
     "data": {
      "text/html": [
       "<table>\n",
       "<thead><tr><th></th><th scope=col>Date</th><th scope=col>return.KMX</th></tr></thead>\n",
       "<tbody>\n",
       "\t<tr><th scope=row>1</th><td>2017-01-23 </td><td>         NA</td></tr>\n",
       "\t<tr><th scope=row>50</th><td>2017-04-03 </td><td>-0.04305978</td></tr>\n",
       "\t<tr><th scope=row>221</th><td>2017-12-05 </td><td>-0.04228539</td></tr>\n",
       "\t<tr><th scope=row>104</th><td>2017-06-20 </td><td>-0.03876723</td></tr>\n",
       "\t<tr><th scope=row>233</th><td>2017-12-21 </td><td>-0.03607419</td></tr>\n",
       "\t<tr><th scope=row>39</th><td>2017-03-17 </td><td>-0.02911552</td></tr>\n",
       "</tbody>\n",
       "</table>\n"
      ],
      "text/latex": [
       "\\begin{tabular}{r|ll}\n",
       "  & Date & return.KMX\\\\\n",
       "\\hline\n",
       "\t1 & 2017-01-23  &          NA\\\\\n",
       "\t50 & 2017-04-03  & -0.04305978\\\\\n",
       "\t221 & 2017-12-05  & -0.04228539\\\\\n",
       "\t104 & 2017-06-20  & -0.03876723\\\\\n",
       "\t233 & 2017-12-21  & -0.03607419\\\\\n",
       "\t39 & 2017-03-17  & -0.02911552\\\\\n",
       "\\end{tabular}\n"
      ],
      "text/markdown": [
       "\n",
       "| <!--/--> | Date | return.KMX |\n",
       "|---|---|---|\n",
       "| 1 | 2017-01-23  |          NA |\n",
       "| 50 | 2017-04-03  | -0.04305978 |\n",
       "| 221 | 2017-12-05  | -0.04228539 |\n",
       "| 104 | 2017-06-20  | -0.03876723 |\n",
       "| 233 | 2017-12-21  | -0.03607419 |\n",
       "| 39 | 2017-03-17  | -0.02911552 |\n",
       "\n"
      ],
      "text/plain": [
       "    Date       return.KMX \n",
       "1   2017-01-23          NA\n",
       "50  2017-04-03 -0.04305978\n",
       "221 2017-12-05 -0.04228539\n",
       "104 2017-06-20 -0.03876723\n",
       "233 2017-12-21 -0.03607419\n",
       "39  2017-03-17 -0.02911552"
      ]
     },
     "metadata": {},
     "output_type": "display_data"
    },
    {
     "data": {
      "text/html": [
       "<table>\n",
       "<thead><tr><th></th><th scope=col>Date</th><th scope=col>return.GOOG</th></tr></thead>\n",
       "<tbody>\n",
       "\t<tr><th scope=row>1</th><td>2017-01-23 </td><td>         NA</td></tr>\n",
       "\t<tr><th scope=row>97</th><td>2017-06-09 </td><td>-0.03414649</td></tr>\n",
       "\t<tr><th scope=row>128</th><td>2017-07-25 </td><td>-0.03023441</td></tr>\n",
       "\t<tr><th scope=row>109</th><td>2017-06-27 </td><td>-0.02619005</td></tr>\n",
       "\t<tr><th scope=row>6</th><td>2017-01-30 </td><td>-0.02549465</td></tr>\n",
       "\t<tr><th scope=row>81</th><td>2017-05-17 </td><td>-0.02479321</td></tr>\n",
       "</tbody>\n",
       "</table>\n"
      ],
      "text/latex": [
       "\\begin{tabular}{r|ll}\n",
       "  & Date & return.GOOG\\\\\n",
       "\\hline\n",
       "\t1 & 2017-01-23  &          NA\\\\\n",
       "\t97 & 2017-06-09  & -0.03414649\\\\\n",
       "\t128 & 2017-07-25  & -0.03023441\\\\\n",
       "\t109 & 2017-06-27  & -0.02619005\\\\\n",
       "\t6 & 2017-01-30  & -0.02549465\\\\\n",
       "\t81 & 2017-05-17  & -0.02479321\\\\\n",
       "\\end{tabular}\n"
      ],
      "text/markdown": [
       "\n",
       "| <!--/--> | Date | return.GOOG |\n",
       "|---|---|---|\n",
       "| 1 | 2017-01-23  |          NA |\n",
       "| 97 | 2017-06-09  | -0.03414649 |\n",
       "| 128 | 2017-07-25  | -0.03023441 |\n",
       "| 109 | 2017-06-27  | -0.02619005 |\n",
       "| 6 | 2017-01-30  | -0.02549465 |\n",
       "| 81 | 2017-05-17  | -0.02479321 |\n",
       "\n"
      ],
      "text/plain": [
       "    Date       return.GOOG\n",
       "1   2017-01-23          NA\n",
       "97  2017-06-09 -0.03414649\n",
       "128 2017-07-25 -0.03023441\n",
       "109 2017-06-27 -0.02619005\n",
       "6   2017-01-30 -0.02549465\n",
       "81  2017-05-17 -0.02479321"
      ]
     },
     "metadata": {},
     "output_type": "display_data"
    },
    {
     "data": {
      "text/html": [
       "<table>\n",
       "<thead><tr><th></th><th scope=col>Date</th><th scope=col>return.GE</th></tr></thead>\n",
       "<tbody>\n",
       "\t<tr><th scope=row>1</th><td>2017-01-23 </td><td>         NA</td></tr>\n",
       "\t<tr><th scope=row>206</th><td>2017-11-13 </td><td>-0.07174231</td></tr>\n",
       "\t<tr><th scope=row>191</th><td>2017-10-23 </td><td>-0.06336551</td></tr>\n",
       "\t<tr><th scope=row>207</th><td>2017-11-14 </td><td>-0.05888538</td></tr>\n",
       "\t<tr><th scope=row>181</th><td>2017-10-09 </td><td>-0.03936039</td></tr>\n",
       "\t<tr><th scope=row>115</th><td>2017-07-06 </td><td>-0.03802559</td></tr>\n",
       "</tbody>\n",
       "</table>\n"
      ],
      "text/latex": [
       "\\begin{tabular}{r|ll}\n",
       "  & Date & return.GE\\\\\n",
       "\\hline\n",
       "\t1 & 2017-01-23  &          NA\\\\\n",
       "\t206 & 2017-11-13  & -0.07174231\\\\\n",
       "\t191 & 2017-10-23  & -0.06336551\\\\\n",
       "\t207 & 2017-11-14  & -0.05888538\\\\\n",
       "\t181 & 2017-10-09  & -0.03936039\\\\\n",
       "\t115 & 2017-07-06  & -0.03802559\\\\\n",
       "\\end{tabular}\n"
      ],
      "text/markdown": [
       "\n",
       "| <!--/--> | Date | return.GE |\n",
       "|---|---|---|\n",
       "| 1 | 2017-01-23  |          NA |\n",
       "| 206 | 2017-11-13  | -0.07174231 |\n",
       "| 191 | 2017-10-23  | -0.06336551 |\n",
       "| 207 | 2017-11-14  | -0.05888538 |\n",
       "| 181 | 2017-10-09  | -0.03936039 |\n",
       "| 115 | 2017-07-06  | -0.03802559 |\n",
       "\n"
      ],
      "text/plain": [
       "    Date       return.GE  \n",
       "1   2017-01-23          NA\n",
       "206 2017-11-13 -0.07174231\n",
       "191 2017-10-23 -0.06336551\n",
       "207 2017-11-14 -0.05888538\n",
       "181 2017-10-09 -0.03936039\n",
       "115 2017-07-06 -0.03802559"
      ]
     },
     "metadata": {},
     "output_type": "display_data"
    }
   ],
   "source": [
    "#problem 1.6\n",
    "print(\"WORST 5 RETURN OF THE STOCKS\")\n",
    "head(df[order(df$return.AMZN,na.last = F),],6)[,c(\"Date\",\"return.AMZN\")]\n",
    "\n",
    "head(df[order(df$return.KMX,na.last = F),],6)[,c(\"Date\",\"return.KMX\")]\n",
    "\n",
    "head(df[order(df$return.GOOG,na.last = F),],6)[,c(\"Date\",\"return.GOOG\")]\n",
    "\n",
    "head(df[order(df$return.GE,na.last = F),],6)[,c(\"Date\",\"return.GE\")]\n"
   ]
  },
  {
   "cell_type": "markdown",
   "metadata": {},
   "source": [
    "##### Above are the worst 5 returns of the stocks with their date of occurance."
   ]
  },
  {
   "cell_type": "markdown",
   "metadata": {},
   "source": [
    "### Q 7. Using the function plot(), try to visualize the returns of the stock over one year\n"
   ]
  },
  {
   "cell_type": "code",
   "execution_count": 205,
   "metadata": {},
   "outputs": [
    {
     "name": "stderr",
     "output_type": "stream",
     "text": [
      "Warning message:\n",
      "\"Removed 1 rows containing non-finite values (stat_smooth).\"Warning message:\n",
      "\"Removed 1 rows containing missing values (geom_path).\"Warning message:\n",
      "\"Removed 1 rows containing missing values (geom_point).\""
     ]
    },
    {
     "data": {
      "image/png": "[encoded data removed]",
      "text/plain": [
       "plot without title"
      ]
     },
     "metadata": {},
     "output_type": "display_data"
    }
   ],
   "source": [
    "#plot the returnplot\n",
    "library(ggplot2)\n",
    "ggplot(data = df, aes(x=Date,y =return.AMZN, color= return.AMZN))+geom_line()+geom_point()+ ggtitle(\"AMZN returns:\")+ geom_smooth(method=\"lm\",se=F)\n"
   ]
  },
  {
   "cell_type": "markdown",
   "metadata": {},
   "source": [
    "#### *Above is the line graph for AMZN return*"
   ]
  },
  {
   "cell_type": "code",
   "execution_count": 206,
   "metadata": {},
   "outputs": [
    {
     "name": "stderr",
     "output_type": "stream",
     "text": [
      "Warning message:\n",
      "\"Removed 1 rows containing non-finite values (stat_smooth).\"Warning message:\n",
      "\"Removed 1 rows containing missing values (geom_path).\"Warning message:\n",
      "\"Removed 1 rows containing missing values (geom_point).\""
     ]
    },
    {
     "data": {
      "image/png": "[encoded data removed]",
      "text/plain": [
       "plot without title"
      ]
     },
     "metadata": {},
     "output_type": "display_data"
    }
   ],
   "source": [
    "ggplot(data = df, aes(x=Date,y =return.KMX, color = return.KMX))+geom_line()+ geom_point()+ ggtitle(\"KMX returns:\")+ geom_smooth(method=\"lm\",se=F)\n"
   ]
  },
  {
   "cell_type": "markdown",
   "metadata": {},
   "source": [
    "#### *Above is the line graph for KMX return*"
   ]
  },
  {
   "cell_type": "code",
   "execution_count": 207,
   "metadata": {
    "scrolled": false
   },
   "outputs": [
    {
     "name": "stderr",
     "output_type": "stream",
     "text": [
      "Warning message:\n",
      "\"Removed 1 rows containing non-finite values (stat_smooth).\"Warning message:\n",
      "\"Removed 1 rows containing missing values (geom_path).\"Warning message:\n",
      "\"Removed 1 rows containing missing values (geom_point).\""
     ]
    },
    {
     "data": {
      "image/png": "[encoded data removed]",
      "text/plain": [
       "plot without title"
      ]
     },
     "metadata": {},
     "output_type": "display_data"
    }
   ],
   "source": [
    "ggplot(data = df, aes(x=Date,y =return.GOOG, color = return.GOOG))+geom_line()+ geom_point()+ ggtitle(\"GOOG returns:\")+ geom_smooth(method=\"lm\",se=F)\n"
   ]
  },
  {
   "cell_type": "markdown",
   "metadata": {},
   "source": [
    "#### *Above is the line graph for GOOG return*"
   ]
  },
  {
   "cell_type": "code",
   "execution_count": 208,
   "metadata": {},
   "outputs": [
    {
     "name": "stderr",
     "output_type": "stream",
     "text": [
      "Warning message:\n",
      "\"Removed 1 rows containing non-finite values (stat_smooth).\"Warning message:\n",
      "\"Removed 1 rows containing missing values (geom_path).\"Warning message:\n",
      "\"Removed 1 rows containing missing values (geom_point).\""
     ]
    },
    {
     "data": {
      "image/png": "[encoded data removed]",
      "text/plain": [
       "plot without title"
      ]
     },
     "metadata": {},
     "output_type": "display_data"
    }
   ],
   "source": [
    "\n",
    "ggplot(data = df, aes(x=Date,y =return.GE, color= return.GE))+geom_line()+ geom_point()+ ggtitle(\"GE returns:\")+ geom_smooth(method=\"lm\",se=F)"
   ]
  },
  {
   "cell_type": "markdown",
   "metadata": {},
   "source": [
    "#### *Above is the line graph for GE return*"
   ]
  },
  {
   "cell_type": "code",
   "execution_count": 209,
   "metadata": {},
   "outputs": [
    {
     "data": {
      "text/html": [
       "<table>\n",
       "<thead><tr><th scope=col>Date</th><th scope=col>AMZN</th><th scope=col>KMX</th><th scope=col>GOOG</th><th scope=col>GE</th><th scope=col>return.AMZN</th><th scope=col>return.KMX</th><th scope=col>return.GOOG</th><th scope=col>return.GE</th></tr></thead>\n",
       "<tbody>\n",
       "\t<tr><td>2017-01-23   </td><td>817.88       </td><td>67.13        </td><td>819.31       </td><td>29.75        </td><td>          NA </td><td>           NA</td><td>          NA </td><td>          NA </td></tr>\n",
       "\t<tr><td>2017-01-24   </td><td>822.44       </td><td>68.21        </td><td>823.87       </td><td>30.00        </td><td> 0.005575390 </td><td> 0.0160881871</td><td> 0.005565659 </td><td> 0.008403361 </td></tr>\n",
       "\t<tr><td>2017-01-25   </td><td>836.52       </td><td>68.20        </td><td>835.67       </td><td>30.37        </td><td> 0.017119790 </td><td>-0.0001466061</td><td> 0.014322648 </td><td> 0.012333333 </td></tr>\n",
       "\t<tr><td>2017-01-26   </td><td>839.15       </td><td>67.67        </td><td>832.15       </td><td>30.32        </td><td> 0.003143977 </td><td>-0.0077712610</td><td>-0.004212189 </td><td>-0.001646362 </td></tr>\n",
       "\t<tr><td>2017-01-27   </td><td>835.77       </td><td>67.46        </td><td>823.31       </td><td>30.01        </td><td>-0.004027885 </td><td>-0.0031032954</td><td>-0.010623085 </td><td>-0.010224274 </td></tr>\n",
       "\t<tr><td>2017-01-30   </td><td>830.38       </td><td>66.89        </td><td>802.32       </td><td>29.96        </td><td>-0.006449143 </td><td>-0.0084494515</td><td>-0.025494650 </td><td>-0.001666111 </td></tr>\n",
       "</tbody>\n",
       "</table>\n"
      ],
      "text/latex": [
       "\\begin{tabular}{r|lllllllll}\n",
       " Date & AMZN & KMX & GOOG & GE & return.AMZN & return.KMX & return.GOOG & return.GE\\\\\n",
       "\\hline\n",
       "\t 2017-01-23    & 817.88        & 67.13         & 819.31        & 29.75         &           NA  &            NA &           NA  &           NA \\\\\n",
       "\t 2017-01-24    & 822.44        & 68.21         & 823.87        & 30.00         &  0.005575390  &  0.0160881871 &  0.005565659  &  0.008403361 \\\\\n",
       "\t 2017-01-25    & 836.52        & 68.20         & 835.67        & 30.37         &  0.017119790  & -0.0001466061 &  0.014322648  &  0.012333333 \\\\\n",
       "\t 2017-01-26    & 839.15        & 67.67         & 832.15        & 30.32         &  0.003143977  & -0.0077712610 & -0.004212189  & -0.001646362 \\\\\n",
       "\t 2017-01-27    & 835.77        & 67.46         & 823.31        & 30.01         & -0.004027885  & -0.0031032954 & -0.010623085  & -0.010224274 \\\\\n",
       "\t 2017-01-30    & 830.38        & 66.89         & 802.32        & 29.96         & -0.006449143  & -0.0084494515 & -0.025494650  & -0.001666111 \\\\\n",
       "\\end{tabular}\n"
      ],
      "text/markdown": [
       "\n",
       "| Date | AMZN | KMX | GOOG | GE | return.AMZN | return.KMX | return.GOOG | return.GE |\n",
       "|---|---|---|---|---|---|---|---|---|\n",
       "| 2017-01-23    | 817.88        | 67.13         | 819.31        | 29.75         |           NA  |            NA |           NA  |           NA  |\n",
       "| 2017-01-24    | 822.44        | 68.21         | 823.87        | 30.00         |  0.005575390  |  0.0160881871 |  0.005565659  |  0.008403361  |\n",
       "| 2017-01-25    | 836.52        | 68.20         | 835.67        | 30.37         |  0.017119790  | -0.0001466061 |  0.014322648  |  0.012333333  |\n",
       "| 2017-01-26    | 839.15        | 67.67         | 832.15        | 30.32         |  0.003143977  | -0.0077712610 | -0.004212189  | -0.001646362  |\n",
       "| 2017-01-27    | 835.77        | 67.46         | 823.31        | 30.01         | -0.004027885  | -0.0031032954 | -0.010623085  | -0.010224274  |\n",
       "| 2017-01-30    | 830.38        | 66.89         | 802.32        | 29.96         | -0.006449143  | -0.0084494515 | -0.025494650  | -0.001666111  |\n",
       "\n"
      ],
      "text/plain": [
       "  Date       AMZN   KMX   GOOG   GE    return.AMZN  return.KMX    return.GOOG \n",
       "1 2017-01-23 817.88 67.13 819.31 29.75           NA            NA           NA\n",
       "2 2017-01-24 822.44 68.21 823.87 30.00  0.005575390  0.0160881871  0.005565659\n",
       "3 2017-01-25 836.52 68.20 835.67 30.37  0.017119790 -0.0001466061  0.014322648\n",
       "4 2017-01-26 839.15 67.67 832.15 30.32  0.003143977 -0.0077712610 -0.004212189\n",
       "5 2017-01-27 835.77 67.46 823.31 30.01 -0.004027885 -0.0031032954 -0.010623085\n",
       "6 2017-01-30 830.38 66.89 802.32 29.96 -0.006449143 -0.0084494515 -0.025494650\n",
       "  return.GE   \n",
       "1           NA\n",
       "2  0.008403361\n",
       "3  0.012333333\n",
       "4 -0.001646362\n",
       "5 -0.010224274\n",
       "6 -0.001666111"
      ]
     },
     "metadata": {},
     "output_type": "display_data"
    },
    {
     "name": "stderr",
     "output_type": "stream",
     "text": [
      "`geom_smooth()` using method = 'loess' and formula 'y ~ x'\n",
      "Warning message:\n",
      "\"Removed 4 rows containing non-finite values (stat_smooth).\"Warning message:\n",
      "\"Removed 4 rows containing missing values (geom_path).\""
     ]
    },
    {
     "data": {
      "image/png": "[encoded data removed]",
      "text/plain": [
       "plot without title"
      ]
     },
     "metadata": {},
     "output_type": "display_data"
    }
   ],
   "source": [
    "#to plot the stocks together we stacked them in a column using melt function\n",
    "\n",
    "library(reshape2)\n",
    "d <- melt(df, id=c(\"Date\",\"AMZN\",\"KMX\",\"GOOG\",\"GE\"))\n",
    "head(df)\n",
    "# Everything on the same plot\n",
    "ggplot(d, aes(Date,value, color=variable)) + \n",
    "  geom_line() + geom_smooth()"
   ]
  },
  {
   "cell_type": "markdown",
   "metadata": {},
   "source": [
    "#### *The above graph compares return of all the stocks*"
   ]
  },
  {
   "cell_type": "markdown",
   "metadata": {},
   "source": [
    "## Problem 2\n",
    "### Using the Cheesemakers dataset, answer the following questions:\n"
   ]
  },
  {
   "cell_type": "markdown",
   "metadata": {},
   "source": [
    "### Preparing Data for the analysis :"
   ]
  },
  {
   "cell_type": "code",
   "execution_count": 210,
   "metadata": {},
   "outputs": [],
   "source": [
    "df = read.csv(\"C:\\\\Users\\\\shrey\\\\OneDrive\\\\Desktop\\\\BUSINESS ANALYTICS\\\\Assignment1.1.csv\")"
   ]
  },
  {
   "cell_type": "code",
   "execution_count": 211,
   "metadata": {},
   "outputs": [],
   "source": [
    "#convert Date from Factor to Date \n",
    "colnames(df[\"Date\"]) = \"Date\"\n",
    "df$Date = as.Date(df$Date,format=\"%d/%m/%Y\")"
   ]
  },
  {
   "cell_type": "markdown",
   "metadata": {},
   "source": [
    "### Q 1. Compute the summary statistics for gross profit in cheese? What does this mean to you?\n"
   ]
  },
  {
   "cell_type": "markdown",
   "metadata": {},
   "source": [
    "##### Summary of the data helps in understanding the data before its analysis. \n",
    "1. It tells us the data type of the attributes we have in the dataset\n",
    "2. Structure of the data gives statistical information like mean, median, max etc to understand the numerical variables."
   ]
  },
  {
   "cell_type": "code",
   "execution_count": 212,
   "metadata": {},
   "outputs": [
    {
     "data": {
      "text/html": [
       "<table>\n",
       "<thead><tr><th scope=col>Contact.method</th><th scope=col>Customer.ID</th><th scope=col>Date</th><th scope=col>Item.ID</th><th scope=col>Item.name</th><th scope=col>Order.ID</th><th scope=col>Row.ID</th><th scope=col>State</th><th scope=col>Gross.profit</th><th scope=col>Number.of.Records</th><th scope=col>Sale.amount</th><th scope=col>Sales.target</th></tr></thead>\n",
       "<tbody>\n",
       "\t<tr><td>Both             </td><td>18565            </td><td>2012-01-01       </td><td>1                </td><td>Calistoga Cheddar</td><td>106              </td><td>1                </td><td>CA               </td><td>8                </td><td>1                </td><td>18               </td><td>22               </td></tr>\n",
       "</tbody>\n",
       "</table>\n"
      ],
      "text/latex": [
       "\\begin{tabular}{r|llllllllllll}\n",
       " Contact.method & Customer.ID & Date & Item.ID & Item.name & Order.ID & Row.ID & State & Gross.profit & Number.of.Records & Sale.amount & Sales.target\\\\\n",
       "\\hline\n",
       "\t Both              & 18565             & 2012-01-01        & 1                 & Calistoga Cheddar & 106               & 1                 & CA                & 8                 & 1                 & 18                & 22               \\\\\n",
       "\\end{tabular}\n"
      ],
      "text/markdown": [
       "\n",
       "| Contact.method | Customer.ID | Date | Item.ID | Item.name | Order.ID | Row.ID | State | Gross.profit | Number.of.Records | Sale.amount | Sales.target |\n",
       "|---|---|---|---|---|---|---|---|---|---|---|---|\n",
       "| Both              | 18565             | 2012-01-01        | 1                 | Calistoga Cheddar | 106               | 1                 | CA                | 8                 | 1                 | 18                | 22                |\n",
       "\n"
      ],
      "text/plain": [
       "  Contact.method Customer.ID Date       Item.ID Item.name         Order.ID\n",
       "1 Both           18565       2012-01-01 1       Calistoga Cheddar 106     \n",
       "  Row.ID State Gross.profit Number.of.Records Sale.amount Sales.target\n",
       "1 1      CA    8            1                 18          22          "
      ]
     },
     "metadata": {},
     "output_type": "display_data"
    },
    {
     "data": {
      "text/html": [
       "<table>\n",
       "<thead><tr><th></th><th scope=col>Contact.method</th><th scope=col>Customer.ID</th><th scope=col>Date</th><th scope=col>Item.ID</th><th scope=col>Item.name</th><th scope=col>Order.ID</th><th scope=col>Row.ID</th><th scope=col>State</th><th scope=col>Gross.profit</th><th scope=col>Number.of.Records</th><th scope=col>Sale.amount</th><th scope=col>Sales.target</th></tr></thead>\n",
       "<tbody>\n",
       "\t<tr><th scope=row>94547</th><td>Neither         </td><td>38206           </td><td>NA              </td><td>7               </td><td>Mill Valley Goat</td><td>77838           </td><td>2               </td><td>WY              </td><td>9               </td><td>1               </td><td>18              </td><td>6               </td></tr>\n",
       "</tbody>\n",
       "</table>\n"
      ],
      "text/latex": [
       "\\begin{tabular}{r|llllllllllll}\n",
       "  & Contact.method & Customer.ID & Date & Item.ID & Item.name & Order.ID & Row.ID & State & Gross.profit & Number.of.Records & Sale.amount & Sales.target\\\\\n",
       "\\hline\n",
       "\t94547 & Neither          & 38206            & NA               & 7                & Mill Valley Goat & 77838            & 2                & WY               & 9                & 1                & 18               & 6               \\\\\n",
       "\\end{tabular}\n"
      ],
      "text/markdown": [
       "\n",
       "| <!--/--> | Contact.method | Customer.ID | Date | Item.ID | Item.name | Order.ID | Row.ID | State | Gross.profit | Number.of.Records | Sale.amount | Sales.target |\n",
       "|---|---|---|---|---|---|---|---|---|---|---|---|---|\n",
       "| 94547 | Neither          | 38206            | NA               | 7                | Mill Valley Goat | 77838            | 2                | WY               | 9                | 1                | 18               | 6                |\n",
       "\n"
      ],
      "text/plain": [
       "      Contact.method Customer.ID Date Item.ID Item.name        Order.ID Row.ID\n",
       "94547 Neither        38206       <NA> 7       Mill Valley Goat 77838    2     \n",
       "      State Gross.profit Number.of.Records Sale.amount Sales.target\n",
       "94547 WY    9            1                 18          6           "
      ]
     },
     "metadata": {},
     "output_type": "display_data"
    }
   ],
   "source": [
    "#problem 2.1\n",
    "\n",
    "#understanding Data\n",
    "head(df,1)\n",
    "tail(df,1)\n"
   ]
  },
  {
   "cell_type": "code",
   "execution_count": 214,
   "metadata": {},
   "outputs": [
    {
     "name": "stdout",
     "output_type": "stream",
     "text": [
      "[1] \"Structure of the Data\"\n",
      "'data.frame':\t94547 obs. of  12 variables:\n",
      " $ Contact.method   : Factor w/ 4 levels \"Both\",\"Email\",..: 1 1 1 1 1 1 1 1 1 1 ...\n",
      " $ Customer.ID      : int  18565 22873 38254 46726 41695 18348 4985 16630 45494 46847 ...\n",
      " $ Date             : Date, format: \"2012-01-01\" \"2012-01-01\" ...\n",
      " $ Item.ID          : int  1 1 1 1 1 1 1 1 1 1 ...\n",
      " $ Item.name        : Factor w/ 7 levels \"Calistoga Cheddar\",..: 1 1 1 1 1 1 1 1 1 1 ...\n",
      " $ Order.ID         : int  106 145 179 207 188 102 29 92 202 208 ...\n",
      " $ Row.ID           : int  1 1 1 1 1 1 1 1 1 1 ...\n",
      " $ State            : Factor w/ 49 levels \"AL\",\"AR\",\"AZ\",..: 4 4 4 6 7 9 11 13 17 21 ...\n",
      " $ Gross.profit     : int  8 10 10 8 21 10 10 10 18 50 ...\n",
      " $ Number.of.Records: int  1 1 1 1 1 1 1 1 1 1 ...\n",
      " $ Sale.amount      : int  18 24 24 18 48 24 24 24 43 117 ...\n",
      " $ Sales.target     : int  22 22 22 22 67 22 22 22 44 156 ...\n"
     ]
    }
   ],
   "source": [
    "print(\"Structure of the Data\")\n",
    "str(df)"
   ]
  },
  {
   "cell_type": "markdown",
   "metadata": {},
   "source": [
    "#### Above structure tells us about the columns which are integers or factors "
   ]
  },
  {
   "cell_type": "code",
   "execution_count": 215,
   "metadata": {
    "scrolled": false
   },
   "outputs": [
    {
     "name": "stdout",
     "output_type": "stream",
     "text": [
      "[1] \"Summary of the Data\"\n"
     ]
    },
    {
     "data": {
      "text/plain": [
       "    Contact.method   Customer.ID         Date               Item.ID     \n",
       " Both      :26565   Min.   :    1   Min.   :2012-01-01   Min.   :1.000  \n",
       " Email     : 2153   1st Qu.:21925   1st Qu.:2012-07-05   1st Qu.:1.000  \n",
       " Neither   :57856   Median :33357   Median :2013-01-12   Median :4.000  \n",
       " Newsletter: 7973   Mean   :30747   Mean   :2013-01-05   Mean   :3.622  \n",
       "                    3rd Qu.:42255   3rd Qu.:2013-07-08   3rd Qu.:6.000  \n",
       "                    Max.   :47911   Max.   :2013-12-12   Max.   :7.000  \n",
       "                                    NA's   :55828                       \n",
       "             Item.name        Order.ID         Row.ID          State      \n",
       " Calistoga Cheddar:29841   Min.   :    1   Min.   :1.000   TX     :11173  \n",
       " Mill Valley Goat :15406   1st Qu.:22427   1st Qu.:1.000   CA     :10513  \n",
       " Napa Cracker     :10759   Median :43247   Median :1.000   FL     : 7057  \n",
       " Petaluma Pear    :10800   Mean   :41741   Mean   :1.185   VA     : 4549  \n",
       " Reyes Raspberry  : 4631   3rd Qu.:61584   3rd Qu.:1.000   NY     : 4259  \n",
       " Santa Rosa Spread:12266   Max.   :77931   Max.   :3.000   OH     : 3953  \n",
       " Sonoma Stilton   :10844                                   (Other):53043  \n",
       "  Gross.profit     Number.of.Records  Sale.amount        Sales.target     \n",
       " Min.   :   2.00   Min.   :1         Min.   :    5.00   Min.   :    3.00  \n",
       " 1st Qu.:   7.00   1st Qu.:1         1st Qu.:   18.00   1st Qu.:   16.00  \n",
       " Median :  10.00   Median :1         Median :   28.00   Median :   25.00  \n",
       " Mean   :  22.49   Mean   :1         Mean   :   61.17   Mean   :   61.96  \n",
       " 3rd Qu.:  18.00   3rd Qu.:1         3rd Qu.:   48.00   3rd Qu.:   43.00  \n",
       " Max.   :4470.00   Max.   :1         Max.   :10456.00   Max.   :13398.00  \n",
       "                                                                          "
      ]
     },
     "metadata": {},
     "output_type": "display_data"
    }
   ],
   "source": [
    "print(\"Summary of the Data\")\n",
    "summary(df)"
   ]
  },
  {
   "cell_type": "markdown",
   "metadata": {},
   "source": [
    "#### Summary of the dataset tells us about the MIN, Median, Max and other statistical measures that helps us understand the spread of the attributes"
   ]
  },
  {
   "cell_type": "markdown",
   "metadata": {},
   "source": [
    "### More Analysis on Gross Profit:"
   ]
  },
  {
   "cell_type": "code",
   "execution_count": 216,
   "metadata": {},
   "outputs": [
    {
     "name": "stdout",
     "output_type": "stream",
     "text": [
      "Overall Gross Profit for the given data for cheese is: 2126227"
     ]
    }
   ],
   "source": [
    "#overall Gross profit\n",
    "cat(\"Overall Gross Profit for the given data for cheese is:\",sum(df[,\"Gross.profit\"]))"
   ]
  },
  {
   "cell_type": "code",
   "execution_count": 217,
   "metadata": {},
   "outputs": [
    {
     "data": {
      "text/html": [
       "<table>\n",
       "<thead><tr><th scope=col>Group.1</th><th scope=col>x</th></tr></thead>\n",
       "<tbody>\n",
       "\t<tr><td>Calistoga Cheddar</td><td>771592           </td></tr>\n",
       "\t<tr><td>Mill Valley Goat </td><td>390360           </td></tr>\n",
       "\t<tr><td>Napa Cracker     </td><td>201773           </td></tr>\n",
       "\t<tr><td>Petaluma Pear    </td><td>208019           </td></tr>\n",
       "\t<tr><td>Reyes Raspberry  </td><td> 26378           </td></tr>\n",
       "\t<tr><td>Santa Rosa Spread</td><td>337353           </td></tr>\n",
       "\t<tr><td>Sonoma Stilton   </td><td>190752           </td></tr>\n",
       "</tbody>\n",
       "</table>\n"
      ],
      "text/latex": [
       "\\begin{tabular}{r|ll}\n",
       " Group.1 & x\\\\\n",
       "\\hline\n",
       "\t Calistoga Cheddar & 771592           \\\\\n",
       "\t Mill Valley Goat  & 390360           \\\\\n",
       "\t Napa Cracker      & 201773           \\\\\n",
       "\t Petaluma Pear     & 208019           \\\\\n",
       "\t Reyes Raspberry   &  26378           \\\\\n",
       "\t Santa Rosa Spread & 337353           \\\\\n",
       "\t Sonoma Stilton    & 190752           \\\\\n",
       "\\end{tabular}\n"
      ],
      "text/markdown": [
       "\n",
       "| Group.1 | x |\n",
       "|---|---|\n",
       "| Calistoga Cheddar | 771592            |\n",
       "| Mill Valley Goat  | 390360            |\n",
       "| Napa Cracker      | 201773            |\n",
       "| Petaluma Pear     | 208019            |\n",
       "| Reyes Raspberry   |  26378            |\n",
       "| Santa Rosa Spread | 337353            |\n",
       "| Sonoma Stilton    | 190752            |\n",
       "\n"
      ],
      "text/plain": [
       "  Group.1           x     \n",
       "1 Calistoga Cheddar 771592\n",
       "2 Mill Valley Goat  390360\n",
       "3 Napa Cracker      201773\n",
       "4 Petaluma Pear     208019\n",
       "5 Reyes Raspberry    26378\n",
       "6 Santa Rosa Spread 337353\n",
       "7 Sonoma Stilton    190752"
      ]
     },
     "metadata": {},
     "output_type": "display_data"
    }
   ],
   "source": [
    "# Highest gross profit by Item name(Grouping the dataset by cheese type)\n",
    "GP_Item.Name= aggregate(df$Gross.profit, by = list(df$Item.name),FUN = sum)\n",
    "GP_Item.Name"
   ]
  },
  {
   "cell_type": "markdown",
   "metadata": {},
   "source": [
    "#### insight: highest Gross profit was with calistoga cheddar and lowest was by Reyes Raspberry."
   ]
  },
  {
   "cell_type": "code",
   "execution_count": 218,
   "metadata": {},
   "outputs": [
    {
     "name": "stdout",
     "output_type": "stream",
     "text": [
      "[1] \"x here is the quantity or unit of the item sold\"\n"
     ]
    },
    {
     "data": {
      "text/html": [
       "<table>\n",
       "<thead><tr><th scope=col>Group.1</th><th scope=col>x</th></tr></thead>\n",
       "<tbody>\n",
       "\t<tr><td>Calistoga Cheddar</td><td>1809205          </td></tr>\n",
       "\t<tr><td>Mill Valley Goat </td><td> 816806          </td></tr>\n",
       "\t<tr><td>Napa Cracker     </td><td> 674440          </td></tr>\n",
       "\t<tr><td>Petaluma Pear    </td><td> 632693          </td></tr>\n",
       "\t<tr><td>Reyes Raspberry  </td><td>  77707          </td></tr>\n",
       "\t<tr><td>Santa Rosa Spread</td><td>1095820          </td></tr>\n",
       "\t<tr><td>Sonoma Stilton   </td><td> 676690          </td></tr>\n",
       "</tbody>\n",
       "</table>\n"
      ],
      "text/latex": [
       "\\begin{tabular}{r|ll}\n",
       " Group.1 & x\\\\\n",
       "\\hline\n",
       "\t Calistoga Cheddar & 1809205          \\\\\n",
       "\t Mill Valley Goat  &  816806          \\\\\n",
       "\t Napa Cracker      &  674440          \\\\\n",
       "\t Petaluma Pear     &  632693          \\\\\n",
       "\t Reyes Raspberry   &   77707          \\\\\n",
       "\t Santa Rosa Spread & 1095820          \\\\\n",
       "\t Sonoma Stilton    &  676690          \\\\\n",
       "\\end{tabular}\n"
      ],
      "text/markdown": [
       "\n",
       "| Group.1 | x |\n",
       "|---|---|\n",
       "| Calistoga Cheddar | 1809205           |\n",
       "| Mill Valley Goat  |  816806           |\n",
       "| Napa Cracker      |  674440           |\n",
       "| Petaluma Pear     |  632693           |\n",
       "| Reyes Raspberry   |   77707           |\n",
       "| Santa Rosa Spread | 1095820           |\n",
       "| Sonoma Stilton    |  676690           |\n",
       "\n"
      ],
      "text/plain": [
       "  Group.1           x      \n",
       "1 Calistoga Cheddar 1809205\n",
       "2 Mill Valley Goat   816806\n",
       "3 Napa Cracker       674440\n",
       "4 Petaluma Pear      632693\n",
       "5 Reyes Raspberry     77707\n",
       "6 Santa Rosa Spread 1095820\n",
       "7 Sonoma Stilton     676690"
      ]
     },
     "metadata": {},
     "output_type": "display_data"
    },
    {
     "name": "stdout",
     "output_type": "stream",
     "text": [
      "[1] \"Highest unit sold was of Calistoga Cheddar \"\n"
     ]
    },
    {
     "data": {
      "text/html": [
       "<table>\n",
       "<thead><tr><th scope=col>Group.1</th><th scope=col>x</th><th scope=col>GP_per.count</th></tr></thead>\n",
       "<tbody>\n",
       "\t<tr><td>Calistoga Cheddar</td><td>1809205          </td><td>0.4264812        </td></tr>\n",
       "\t<tr><td>Mill Valley Goat </td><td> 816806          </td><td>0.4779103        </td></tr>\n",
       "\t<tr><td>Napa Cracker     </td><td> 674440          </td><td>0.2991712        </td></tr>\n",
       "\t<tr><td>Petaluma Pear    </td><td> 632693          </td><td>0.3287835        </td></tr>\n",
       "\t<tr><td>Reyes Raspberry  </td><td>  77707          </td><td>0.3394546        </td></tr>\n",
       "\t<tr><td>Santa Rosa Spread</td><td>1095820          </td><td>0.3078544        </td></tr>\n",
       "\t<tr><td>Sonoma Stilton   </td><td> 676690          </td><td>0.2818898        </td></tr>\n",
       "</tbody>\n",
       "</table>\n"
      ],
      "text/latex": [
       "\\begin{tabular}{r|lll}\n",
       " Group.1 & x & GP\\_per.count\\\\\n",
       "\\hline\n",
       "\t Calistoga Cheddar & 1809205           & 0.4264812        \\\\\n",
       "\t Mill Valley Goat  &  816806           & 0.4779103        \\\\\n",
       "\t Napa Cracker      &  674440           & 0.2991712        \\\\\n",
       "\t Petaluma Pear     &  632693           & 0.3287835        \\\\\n",
       "\t Reyes Raspberry   &   77707           & 0.3394546        \\\\\n",
       "\t Santa Rosa Spread & 1095820           & 0.3078544        \\\\\n",
       "\t Sonoma Stilton    &  676690           & 0.2818898        \\\\\n",
       "\\end{tabular}\n"
      ],
      "text/markdown": [
       "\n",
       "| Group.1 | x | GP_per.count |\n",
       "|---|---|---|\n",
       "| Calistoga Cheddar | 1809205           | 0.4264812         |\n",
       "| Mill Valley Goat  |  816806           | 0.4779103         |\n",
       "| Napa Cracker      |  674440           | 0.2991712         |\n",
       "| Petaluma Pear     |  632693           | 0.3287835         |\n",
       "| Reyes Raspberry   |   77707           | 0.3394546         |\n",
       "| Santa Rosa Spread | 1095820           | 0.3078544         |\n",
       "| Sonoma Stilton    |  676690           | 0.2818898         |\n",
       "\n"
      ],
      "text/plain": [
       "  Group.1           x       GP_per.count\n",
       "1 Calistoga Cheddar 1809205 0.4264812   \n",
       "2 Mill Valley Goat   816806 0.4779103   \n",
       "3 Napa Cracker       674440 0.2991712   \n",
       "4 Petaluma Pear      632693 0.3287835   \n",
       "5 Reyes Raspberry     77707 0.3394546   \n",
       "6 Santa Rosa Spread 1095820 0.3078544   \n",
       "7 Sonoma Stilton     676690 0.2818898   "
      ]
     },
     "metadata": {},
     "output_type": "display_data"
    },
    {
     "name": "stdout",
     "output_type": "stream",
     "text": [
      "[1] \"Though highest unit sold was of Calistoga Cheddar the most Gross Profit per item was of Mill Valley Goat\"\n"
     ]
    }
   ],
   "source": [
    "\n",
    "GP_sale.Amount= aggregate(df$Sale.amount, by = list(df$Item.name),FUN = sum)\n",
    "\n",
    "print(\"x here is the quantity or unit of the item sold\")\n",
    "GP_sale.Amount\n",
    "print(\"Highest unit sold was of Calistoga Cheddar \")\n",
    "\n",
    "GP_sale.Amount$GP_per.count = GP_Item.Name[,2]/GP_sale.Amount[,2]\n",
    "\n",
    "GP_sale.Amount\n",
    "print(\"Though highest unit sold was of Calistoga Cheddar the most Gross Profit per item was of Mill Valley Goat\")"
   ]
  },
  {
   "cell_type": "markdown",
   "metadata": {},
   "source": [
    "### Above is the Highest Gross profit per item (grouped the dataset by item.name to count total number of each item sold and then divided by the gross profit to get Gross profit per item)\n",
    "#### Insights:\n",
    "1. *Highest unit sold was of Calistoga Cheddar*\n",
    "2. *Though highest unit sold was of Calistoga Cheddar the most Gross Profit per item was of Mill Valley Goat*\n",
    "\n"
   ]
  },
  {
   "cell_type": "code",
   "execution_count": 220,
   "metadata": {},
   "outputs": [
    {
     "name": "stdout",
     "output_type": "stream",
     "text": [
      "[1] \"The Record Highest Gross Profit was seen between 2012-01 to 2012-07\"\n"
     ]
    },
    {
     "data": {
      "image/png": "[encoded data removed]",
      "text/plain": [
       "plot without title"
      ]
     },
     "metadata": {},
     "output_type": "display_data"
    }
   ],
   "source": [
    "# the Gross Profit per item for Mill Valley Goat is higher than calistoga Cheddar, Even though the sols quantity for Calistoga Cheddar is high.\n",
    "\n",
    "library(ggplot2)\n",
    "# Highest Gross profit by date \n",
    "GP_sale.Date= aggregate(df$Gross.profit, by = list(df$Date),FUN = sum)\n",
    "\n",
    "ggplot(data= GP_sale.Date , aes(x=GP_sale.Date$Group.1 , y=GP_sale.Date$x, color = GP_sale.Date$x)) + geom_line() + geom_point()+ggtitle(\"GROSS PROFIT BY DATE\")\n",
    "\n",
    "print(\"The Record Highest Gross Profit was seen between 2012-01 to 2012-07\")"
   ]
  },
  {
   "cell_type": "markdown",
   "metadata": {},
   "source": [
    "#### Insights from the above plot: The Record Highest Gross Profit was seen between 2012-01 to 2012-07."
   ]
  },
  {
   "cell_type": "code",
   "execution_count": null,
   "metadata": {},
   "outputs": [],
   "source": []
  },
  {
   "cell_type": "markdown",
   "metadata": {},
   "source": [
    "### Q 2. Plot a histogram and a box plot of gross profits. Explain them in English? What do you see? What is normal/abnormal?\n",
    "\n",
    "#### Solution:"
   ]
  },
  {
   "cell_type": "code",
   "execution_count": 39,
   "metadata": {},
   "outputs": [
    {
     "name": "stderr",
     "output_type": "stream",
     "text": [
      "`stat_bin()` using `bins = 30`. Pick better value with `binwidth`.\n"
     ]
    },
    {
     "data": {
      "image/png": "[encoded data removed]",
      "text/plain": [
       "plot without title"
      ]
     },
     "metadata": {},
     "output_type": "display_data"
    }
   ],
   "source": [
    "ggplot(data=df) + geom_histogram(aes(x=df$Gross.profit))"
   ]
  },
  {
   "cell_type": "markdown",
   "metadata": {},
   "source": [
    "#### The above histogram built on the Gross profit takes gross profit values as factors and gives the count of it.\n",
    "_Well!! Not very useful_"
   ]
  },
  {
   "cell_type": "code",
   "execution_count": 221,
   "metadata": {
    "scrolled": false
   },
   "outputs": [
    {
     "data": {
      "text/html": [
       "<table>\n",
       "<thead><tr><th scope=col>Group.1</th><th scope=col>x</th></tr></thead>\n",
       "<tbody>\n",
       "\t<tr><td>Calistoga Cheddar</td><td>771592           </td></tr>\n",
       "\t<tr><td>Mill Valley Goat </td><td>390360           </td></tr>\n",
       "\t<tr><td>Napa Cracker     </td><td>201773           </td></tr>\n",
       "\t<tr><td>Petaluma Pear    </td><td>208019           </td></tr>\n",
       "\t<tr><td>Reyes Raspberry  </td><td> 26378           </td></tr>\n",
       "\t<tr><td>Santa Rosa Spread</td><td>337353           </td></tr>\n",
       "\t<tr><td>Sonoma Stilton   </td><td>190752           </td></tr>\n",
       "</tbody>\n",
       "</table>\n"
      ],
      "text/latex": [
       "\\begin{tabular}{r|ll}\n",
       " Group.1 & x\\\\\n",
       "\\hline\n",
       "\t Calistoga Cheddar & 771592           \\\\\n",
       "\t Mill Valley Goat  & 390360           \\\\\n",
       "\t Napa Cracker      & 201773           \\\\\n",
       "\t Petaluma Pear     & 208019           \\\\\n",
       "\t Reyes Raspberry   &  26378           \\\\\n",
       "\t Santa Rosa Spread & 337353           \\\\\n",
       "\t Sonoma Stilton    & 190752           \\\\\n",
       "\\end{tabular}\n"
      ],
      "text/markdown": [
       "\n",
       "| Group.1 | x |\n",
       "|---|---|\n",
       "| Calistoga Cheddar | 771592            |\n",
       "| Mill Valley Goat  | 390360            |\n",
       "| Napa Cracker      | 201773            |\n",
       "| Petaluma Pear     | 208019            |\n",
       "| Reyes Raspberry   |  26378            |\n",
       "| Santa Rosa Spread | 337353            |\n",
       "| Sonoma Stilton    | 190752            |\n",
       "\n"
      ],
      "text/plain": [
       "  Group.1           x     \n",
       "1 Calistoga Cheddar 771592\n",
       "2 Mill Valley Goat  390360\n",
       "3 Napa Cracker      201773\n",
       "4 Petaluma Pear     208019\n",
       "5 Reyes Raspberry    26378\n",
       "6 Santa Rosa Spread 337353\n",
       "7 Sonoma Stilton    190752"
      ]
     },
     "metadata": {},
     "output_type": "display_data"
    },
    {
     "name": "stdout",
     "output_type": "stream",
     "text": [
      "[1] \"Highest Gross Profit is seen with Calistoga cheddar and lowest seen with Reyees Raspberry\"\n"
     ]
    },
    {
     "data": {
      "image/png": "[encoded data removed]",
      "text/plain": [
       "plot without title"
      ]
     },
     "metadata": {},
     "output_type": "display_data"
    }
   ],
   "source": [
    "#Problem 2.1\n",
    "GP_Item.Name\n",
    "ggplot(data=GP_Item.Name, aes(x=GP_Item.Name$Group.1,y=GP_Item.Name$x))+geom_bar(stat = \"identity\")+ggtitle(\"Gross Profit by type of cheese\")\n",
    "\n",
    "print(\"Highest Gross Profit is seen with Calistoga cheddar and lowest seen with Reyees Raspberry\")"
   ]
  },
  {
   "cell_type": "markdown",
   "metadata": {},
   "source": [
    "#### The above Histograms shows the spread of Gross Profit with respect to Cheese type.\n",
    "1. *Highest Gross Profit is seen with Calistoga cheddar and lowest seen with Reyees Raspberry*"
   ]
  },
  {
   "cell_type": "code",
   "execution_count": 222,
   "metadata": {},
   "outputs": [
    {
     "data": {
      "text/html": [
       "<table>\n",
       "<thead><tr><th scope=col>Group.1</th><th scope=col>Group.2</th><th scope=col>x</th></tr></thead>\n",
       "<tbody>\n",
       "\t<tr><td>Calistoga Cheddar</td><td>2012-01-01       </td><td>810              </td></tr>\n",
       "\t<tr><td>Mill Valley Goat </td><td>2012-01-01       </td><td>608              </td></tr>\n",
       "\t<tr><td>Napa Cracker     </td><td>2012-01-01       </td><td>165              </td></tr>\n",
       "\t<tr><td>Petaluma Pear    </td><td>2012-01-01       </td><td> 74              </td></tr>\n",
       "\t<tr><td>Reyes Raspberry  </td><td>2012-01-01       </td><td> 86              </td></tr>\n",
       "</tbody>\n",
       "</table>\n"
      ],
      "text/latex": [
       "\\begin{tabular}{r|lll}\n",
       " Group.1 & Group.2 & x\\\\\n",
       "\\hline\n",
       "\t Calistoga Cheddar & 2012-01-01        & 810              \\\\\n",
       "\t Mill Valley Goat  & 2012-01-01        & 608              \\\\\n",
       "\t Napa Cracker      & 2012-01-01        & 165              \\\\\n",
       "\t Petaluma Pear     & 2012-01-01        &  74              \\\\\n",
       "\t Reyes Raspberry   & 2012-01-01        &  86              \\\\\n",
       "\\end{tabular}\n"
      ],
      "text/markdown": [
       "\n",
       "| Group.1 | Group.2 | x |\n",
       "|---|---|---|\n",
       "| Calistoga Cheddar | 2012-01-01        | 810               |\n",
       "| Mill Valley Goat  | 2012-01-01        | 608               |\n",
       "| Napa Cracker      | 2012-01-01        | 165               |\n",
       "| Petaluma Pear     | 2012-01-01        |  74               |\n",
       "| Reyes Raspberry   | 2012-01-01        |  86               |\n",
       "\n"
      ],
      "text/plain": [
       "  Group.1           Group.2    x  \n",
       "1 Calistoga Cheddar 2012-01-01 810\n",
       "2 Mill Valley Goat  2012-01-01 608\n",
       "3 Napa Cracker      2012-01-01 165\n",
       "4 Petaluma Pear     2012-01-01  74\n",
       "5 Reyes Raspberry   2012-01-01  86"
      ]
     },
     "metadata": {},
     "output_type": "display_data"
    }
   ],
   "source": [
    "df_groupby_date.Category = aggregate(df$Gross.profit, by = list(df$Item.name,df$Date),FUN = sum)\n",
    "head(df_groupby_date.Category,5)"
   ]
  },
  {
   "cell_type": "code",
   "execution_count": 223,
   "metadata": {},
   "outputs": [
    {
     "data": {
      "image/png": "[encoded data removed]",
      "text/plain": [
       "plot without title"
      ]
     },
     "metadata": {},
     "output_type": "display_data"
    }
   ],
   "source": [
    "ggplot(data=df_groupby_date.Category)+geom_boxplot(aes(x=Group.2,y=x, color=Group.1))+ylab(\"Gross Profit\")+xlab(\"Date\")"
   ]
  },
  {
   "cell_type": "markdown",
   "metadata": {},
   "source": [
    "#### *The above barplot was made grouping the dataset with item,name first and then date.* "
   ]
  },
  {
   "cell_type": "markdown",
   "metadata": {},
   "source": [
    "### Boxplot to understand the spread of the Gross profit wrt the category of the cheese:"
   ]
  },
  {
   "cell_type": "code",
   "execution_count": 224,
   "metadata": {},
   "outputs": [
    {
     "name": "stderr",
     "output_type": "stream",
     "text": [
      "Warning message:\n",
      "\"Removed 1829 rows containing non-finite values (stat_boxplot).\""
     ]
    },
    {
     "data": {
      "image/png": "[encoded data removed]",
      "text/plain": [
       "plot without title"
      ]
     },
     "metadata": {},
     "output_type": "display_data"
    }
   ],
   "source": [
    "ggplot(data= df)+ geom_boxplot(aes(x = df$Item.name, y= df$Gross.profit))+ylim(0,100)+ggtitle(\"Cheese category wrt Gross profit spread \")"
   ]
  },
  {
   "cell_type": "markdown",
   "metadata": {},
   "source": [
    "#### Since the range of gross profit is huge we were having massive single outlier. We discarded the gross profit below 100 to get a better picture of the boxplot.\n",
    "\n",
    "* INSIGHTS:* \n",
    "- The Calistoga Chedda has the highest upper quartile which tells that most of Calistoga Chedda in the population of Orders had high Gross profit compared to other Cheese.\n",
    "- Petaluma Pear has the lowest Lower quartile; Which tells that most of its order had low gross profit compared to the other Cheese\n",
    "- Rosa spread has the median line almost in the middle which tells that most of the population had the gross profit close to mean and they were almost equally distributed.\n",
    "- Reyes Raspberry has a smaller box plot which tells that the orders did not have wide spread Gross profit.\n",
    "- The Box plot with mean touching the lower quartile had most of the gross profit lying in lower quartile.\n",
    "\n",
    "*Abnormal: When plotting the box plot with the spread of the Gross profit we can see that a tiny population of order entries have very high gross profit while most of the population lie much lower in the Gross Profit spread.This makes the graph heavily skewed due to the outliers*"
   ]
  },
  {
   "cell_type": "code",
   "execution_count": 227,
   "metadata": {},
   "outputs": [
    {
     "data": {
      "image/png": "[encoded data removed]",
      "text/plain": [
       "plot without title"
      ]
     },
     "metadata": {},
     "output_type": "display_data"
    }
   ],
   "source": [
    "ggplot(data= df)+ geom_boxplot(aes(y= df$Gross.profit))"
   ]
  },
  {
   "cell_type": "markdown",
   "metadata": {},
   "source": [
    "#### Concluding the above hypothesis\n",
    "*When plotting the box plot with the spread of the Gross profit we can see that a tiny population of order entries have very high gross profit while most of the population lie much lower in the Gross Profit spread. The plot could be skewed on the basis of the certain gross profit going as high as 5000 while most of the population being between 0 to 100.*"
   ]
  },
  {
   "cell_type": "code",
   "execution_count": null,
   "metadata": {},
   "outputs": [],
   "source": []
  },
  {
   "cell_type": "markdown",
   "metadata": {},
   "source": [
    "### Q 3. Using the CustomerID column, identify the number of customer who have done recurring purchases.\n",
    "1. What is the average number of purchases of the recurring clients?\n",
    "2. What is the average spent by recurring clients?\n",
    "3. What is the variance in gross profits between recurring clients vs clients who buy 1 cheese?\n"
   ]
  },
  {
   "cell_type": "markdown",
   "metadata": {},
   "source": [
    "### 1. What is the average number of purchases of the recurring clients?\n",
    "\n",
    "#### Solution 1:"
   ]
  },
  {
   "cell_type": "code",
   "execution_count": 228,
   "metadata": {},
   "outputs": [],
   "source": [
    "df_count_order_per_customer= aggregate(x= df$Number.of.Records,by = list(df$Customer.ID),FUN=sum)"
   ]
  },
  {
   "cell_type": "code",
   "execution_count": 229,
   "metadata": {},
   "outputs": [],
   "source": [
    "df_recurring_MoreThan1 = df_count_order_per_customer %>% filter(x >= 1)\n",
    "df_NO_recurring = df_count_order_per_customer %>% filter(x == 1)"
   ]
  },
  {
   "cell_type": "code",
   "execution_count": 230,
   "metadata": {},
   "outputs": [
    {
     "name": "stdout",
     "output_type": "stream",
     "text": [
      "The mean average number of purchase recurring clients is : 1.996221"
     ]
    }
   ],
   "source": [
    "cat(\"The mean average number of purchase recurring clients is :\",mean(df_recurring_MoreThan1[,2]))"
   ]
  },
  {
   "cell_type": "markdown",
   "metadata": {},
   "source": [
    "### 2. What is the average spent by recurring clients?\n",
    "\n",
    "#### Solution 2:"
   ]
  },
  {
   "cell_type": "code",
   "execution_count": 231,
   "metadata": {},
   "outputs": [],
   "source": [
    "df_recurring_Average = df %>% group_by(df$Customer.ID) %>% \n",
    "summarise(n = n(),total_revenue = sum(Gross.profit), Average = total_revenue/n) %>% \n",
    "filter(n > 1)"
   ]
  },
  {
   "cell_type": "code",
   "execution_count": 232,
   "metadata": {},
   "outputs": [
    {
     "data": {
      "text/html": [
       "<table>\n",
       "<thead><tr><th scope=col>df$Customer.ID</th><th scope=col>n</th><th scope=col>total_revenue</th><th scope=col>Average</th></tr></thead>\n",
       "<tbody>\n",
       "\t<tr><td>    1     </td><td>4         </td><td>1370      </td><td>342.500000</td></tr>\n",
       "\t<tr><td>    2     </td><td>7         </td><td> 135      </td><td> 19.285714</td></tr>\n",
       "\t<tr><td>    3     </td><td>4         </td><td>  58      </td><td> 14.500000</td></tr>\n",
       "\t<tr><td>    4     </td><td>4         </td><td>  71      </td><td> 17.750000</td></tr>\n",
       "\t<tr><td>    5     </td><td>5         </td><td>  75      </td><td> 15.000000</td></tr>\n",
       "\t<tr><td>    6     </td><td>2         </td><td>  58      </td><td> 29.000000</td></tr>\n",
       "\t<tr><td>    7     </td><td>2         </td><td>  45      </td><td> 22.500000</td></tr>\n",
       "\t<tr><td>14050     </td><td>2         </td><td>  29      </td><td> 14.500000</td></tr>\n",
       "\t<tr><td>14051     </td><td>3         </td><td>  20      </td><td>  6.666667</td></tr>\n",
       "\t<tr><td>14052     </td><td>2         </td><td>  24      </td><td> 12.000000</td></tr>\n",
       "</tbody>\n",
       "</table>\n"
      ],
      "text/latex": [
       "\\begin{tabular}{r|llll}\n",
       " df\\$Customer.ID & n & total\\_revenue & Average\\\\\n",
       "\\hline\n",
       "\t     1      & 4          & 1370       & 342.500000\\\\\n",
       "\t     2      & 7          &  135       &  19.285714\\\\\n",
       "\t     3      & 4          &   58       &  14.500000\\\\\n",
       "\t     4      & 4          &   71       &  17.750000\\\\\n",
       "\t     5      & 5          &   75       &  15.000000\\\\\n",
       "\t     6      & 2          &   58       &  29.000000\\\\\n",
       "\t     7      & 2          &   45       &  22.500000\\\\\n",
       "\t 14050      & 2          &   29       &  14.500000\\\\\n",
       "\t 14051      & 3          &   20       &   6.666667\\\\\n",
       "\t 14052      & 2          &   24       &  12.000000\\\\\n",
       "\\end{tabular}\n"
      ],
      "text/markdown": [
       "\n",
       "| df$Customer.ID | n | total_revenue | Average |\n",
       "|---|---|---|---|\n",
       "|     1      | 4          | 1370       | 342.500000 |\n",
       "|     2      | 7          |  135       |  19.285714 |\n",
       "|     3      | 4          |   58       |  14.500000 |\n",
       "|     4      | 4          |   71       |  17.750000 |\n",
       "|     5      | 5          |   75       |  15.000000 |\n",
       "|     6      | 2          |   58       |  29.000000 |\n",
       "|     7      | 2          |   45       |  22.500000 |\n",
       "| 14050      | 2          |   29       |  14.500000 |\n",
       "| 14051      | 3          |   20       |   6.666667 |\n",
       "| 14052      | 2          |   24       |  12.000000 |\n",
       "\n"
      ],
      "text/plain": [
       "   df$Customer.ID n total_revenue Average   \n",
       "1      1          4 1370          342.500000\n",
       "2      2          7  135           19.285714\n",
       "3      3          4   58           14.500000\n",
       "4      4          4   71           17.750000\n",
       "5      5          5   75           15.000000\n",
       "6      6          2   58           29.000000\n",
       "7      7          2   45           22.500000\n",
       "8  14050          2   29           14.500000\n",
       "9  14051          3   20            6.666667\n",
       "10 14052          2   24           12.000000"
      ]
     },
     "metadata": {},
     "output_type": "display_data"
    }
   ],
   "source": [
    "head(df_recurring_Average,10)"
   ]
  },
  {
   "cell_type": "markdown",
   "metadata": {},
   "source": [
    "### In the above data n is the count of order with the unique Customer id, and Average is for the Average spent of each ID"
   ]
  },
  {
   "cell_type": "code",
   "execution_count": null,
   "metadata": {},
   "outputs": [],
   "source": []
  },
  {
   "cell_type": "markdown",
   "metadata": {},
   "source": [
    "### 3. What is the variance in gross profits between recurring clients vs clients who buy 1 cheese?\n",
    "\n",
    "\n",
    "#### Solution 3:"
   ]
  },
  {
   "cell_type": "code",
   "execution_count": 247,
   "metadata": {},
   "outputs": [
    {
     "name": "stdout",
     "output_type": "stream",
     "text": [
      "The variance for client with more than 1 purchse is: 191233167 \n",
      "The variance for clients that bought item once is 91212039"
     ]
    }
   ],
   "source": [
    "cat(\"The variance for client with more than 1 purchse is:\",var(df_recurring_MoreThan1[,1]),\"\\n\")\n",
    "cat(\"The variance for clients that bought item once is\",var(df_NO_recurring[,1]))"
   ]
  },
  {
   "cell_type": "markdown",
   "metadata": {},
   "source": [
    "#### The variance for client with more than 1 purchse is 191233167.14 and for clients that bought is once is 91212039"
   ]
  },
  {
   "cell_type": "markdown",
   "metadata": {},
   "source": [
    "### 4. Which are the most profitable clients?\n",
    "\n",
    "#### Solution 4:"
   ]
  },
  {
   "cell_type": "code",
   "execution_count": 248,
   "metadata": {},
   "outputs": [
    {
     "data": {
      "text/html": [
       "<table>\n",
       "<thead><tr><th scope=col>df$Customer.ID</th><th scope=col>n</th><th scope=col>total_revenue</th><th scope=col>Average</th></tr></thead>\n",
       "<tbody>\n",
       "\t<tr><td>47877   </td><td>4       </td><td> 5913   </td><td>1478.250</td></tr>\n",
       "\t<tr><td>47851   </td><td>2       </td><td> 3069   </td><td>1534.500</td></tr>\n",
       "\t<tr><td>47910   </td><td>9       </td><td>14379   </td><td>1597.667</td></tr>\n",
       "\t<tr><td>47842   </td><td>2       </td><td> 3551   </td><td>1775.500</td></tr>\n",
       "\t<tr><td>47876   </td><td>3       </td><td> 5331   </td><td>1777.000</td></tr>\n",
       "\t<tr><td>47857   </td><td>3       </td><td> 5755   </td><td>1918.333</td></tr>\n",
       "\t<tr><td>47903   </td><td>4       </td><td> 7774   </td><td>1943.500</td></tr>\n",
       "\t<tr><td>47887   </td><td>4       </td><td> 8184   </td><td>2046.000</td></tr>\n",
       "\t<tr><td>47890   </td><td>3       </td><td> 6202   </td><td>2067.333</td></tr>\n",
       "\t<tr><td>47891   </td><td>3       </td><td> 6793   </td><td>2264.333</td></tr>\n",
       "</tbody>\n",
       "</table>\n"
      ],
      "text/latex": [
       "\\begin{tabular}{r|llll}\n",
       " df\\$Customer.ID & n & total\\_revenue & Average\\\\\n",
       "\\hline\n",
       "\t 47877    & 4        &  5913    & 1478.250\\\\\n",
       "\t 47851    & 2        &  3069    & 1534.500\\\\\n",
       "\t 47910    & 9        & 14379    & 1597.667\\\\\n",
       "\t 47842    & 2        &  3551    & 1775.500\\\\\n",
       "\t 47876    & 3        &  5331    & 1777.000\\\\\n",
       "\t 47857    & 3        &  5755    & 1918.333\\\\\n",
       "\t 47903    & 4        &  7774    & 1943.500\\\\\n",
       "\t 47887    & 4        &  8184    & 2046.000\\\\\n",
       "\t 47890    & 3        &  6202    & 2067.333\\\\\n",
       "\t 47891    & 3        &  6793    & 2264.333\\\\\n",
       "\\end{tabular}\n"
      ],
      "text/markdown": [
       "\n",
       "| df$Customer.ID | n | total_revenue | Average |\n",
       "|---|---|---|---|\n",
       "| 47877    | 4        |  5913    | 1478.250 |\n",
       "| 47851    | 2        |  3069    | 1534.500 |\n",
       "| 47910    | 9        | 14379    | 1597.667 |\n",
       "| 47842    | 2        |  3551    | 1775.500 |\n",
       "| 47876    | 3        |  5331    | 1777.000 |\n",
       "| 47857    | 3        |  5755    | 1918.333 |\n",
       "| 47903    | 4        |  7774    | 1943.500 |\n",
       "| 47887    | 4        |  8184    | 2046.000 |\n",
       "| 47890    | 3        |  6202    | 2067.333 |\n",
       "| 47891    | 3        |  6793    | 2264.333 |\n",
       "\n"
      ],
      "text/plain": [
       "   df$Customer.ID n total_revenue Average \n",
       "1  47877          4  5913         1478.250\n",
       "2  47851          2  3069         1534.500\n",
       "3  47910          9 14379         1597.667\n",
       "4  47842          2  3551         1775.500\n",
       "5  47876          3  5331         1777.000\n",
       "6  47857          3  5755         1918.333\n",
       "7  47903          4  7774         1943.500\n",
       "8  47887          4  8184         2046.000\n",
       "9  47890          3  6202         2067.333\n",
       "10 47891          3  6793         2264.333"
      ]
     },
     "metadata": {},
     "output_type": "display_data"
    }
   ],
   "source": [
    "tail(df_recurring_Average[order(df_recurring_Average$Average, na.last = F),],10)"
   ]
  },
  {
   "cell_type": "markdown",
   "metadata": {},
   "source": [
    "#### The client with high Average Gross Profit would be the most profitable clients to the company.\n",
    "##### *Listed above are the top 10 client with highest average Gross profit*"
   ]
  },
  {
   "cell_type": "markdown",
   "metadata": {},
   "source": [
    "### Q 5. How many clients are paying more than 2 standard deviations of the mean price? What does that mean in english?\n",
    "\n",
    "#### Solution 5:\n"
   ]
  },
  {
   "cell_type": "code",
   "execution_count": 249,
   "metadata": {},
   "outputs": [
    {
     "name": "stdout",
     "output_type": "stream",
     "text": [
      "Standard Deviation for Gross.profit is:  92.86595"
     ]
    }
   ],
   "source": [
    "cat(\"Standard Deviation for Gross.profit is: \",sd(df[,\"Gross.profit\"]))"
   ]
  },
  {
   "cell_type": "code",
   "execution_count": 250,
   "metadata": {},
   "outputs": [
    {
     "name": "stdout",
     "output_type": "stream",
     "text": [
      " 2 Standard Deviation above mean for Gross.profit is:  208.2205"
     ]
    }
   ],
   "source": [
    "Two_STD = mean(df[,\"Gross.profit\"])+(2*sd(df[,\"Gross.profit\"]))\n",
    "cat(\" 2 Standard Deviation above mean for Gross.profit is: \", Two_STD)"
   ]
  },
  {
   "cell_type": "code",
   "execution_count": 251,
   "metadata": {},
   "outputs": [],
   "source": [
    "#grouped the data by customer ID and Summed theie Gross Profit and filtered the one with mean above 2 STD \n",
    "\n",
    "df_Above_2STD = df %>% group_by(df$Customer.ID) %>% \n",
    "summarise(n = n(),total_revenue = sum(Gross.profit), Average = total_revenue/n) %>%\n",
    "filter(total_revenue >= Two_STD)"
   ]
  },
  {
   "cell_type": "code",
   "execution_count": 252,
   "metadata": {},
   "outputs": [
    {
     "data": {
      "text/html": [
       "<table>\n",
       "<thead><tr><th scope=col>df$Customer.ID</th><th scope=col>n</th><th scope=col>total_revenue</th><th scope=col>Average</th></tr></thead>\n",
       "<tbody>\n",
       "\t<tr><td>    1 </td><td>4     </td><td>1370  </td><td>342.50</td></tr>\n",
       "\t<tr><td>45358 </td><td>4     </td><td> 217  </td><td> 54.25</td></tr>\n",
       "\t<tr><td>45437 </td><td>2     </td><td> 210  </td><td>105.00</td></tr>\n",
       "\t<tr><td>45743 </td><td>6     </td><td> 231  </td><td> 38.50</td></tr>\n",
       "\t<tr><td>45783 </td><td>1     </td><td> 263  </td><td>263.00</td></tr>\n",
       "</tbody>\n",
       "</table>\n"
      ],
      "text/latex": [
       "\\begin{tabular}{r|llll}\n",
       " df\\$Customer.ID & n & total\\_revenue & Average\\\\\n",
       "\\hline\n",
       "\t     1  & 4      & 1370   & 342.50\\\\\n",
       "\t 45358  & 4      &  217   &  54.25\\\\\n",
       "\t 45437  & 2      &  210   & 105.00\\\\\n",
       "\t 45743  & 6      &  231   &  38.50\\\\\n",
       "\t 45783  & 1      &  263   & 263.00\\\\\n",
       "\\end{tabular}\n"
      ],
      "text/markdown": [
       "\n",
       "| df$Customer.ID | n | total_revenue | Average |\n",
       "|---|---|---|---|\n",
       "|     1  | 4      | 1370   | 342.50 |\n",
       "| 45358  | 4      |  217   |  54.25 |\n",
       "| 45437  | 2      |  210   | 105.00 |\n",
       "| 45743  | 6      |  231   |  38.50 |\n",
       "| 45783  | 1      |  263   | 263.00 |\n",
       "\n"
      ],
      "text/plain": [
       "  df$Customer.ID n total_revenue Average\n",
       "1     1          4 1370          342.50 \n",
       "2 45358          4  217           54.25 \n",
       "3 45437          2  210          105.00 \n",
       "4 45743          6  231           38.50 \n",
       "5 45783          1  263          263.00 "
      ]
     },
     "metadata": {},
     "output_type": "display_data"
    },
    {
     "name": "stdout",
     "output_type": "stream",
     "text": [
      "number of clients paying more than 2 STD of the mean price : 882"
     ]
    }
   ],
   "source": [
    "head(df_Above_2STD,5)\n",
    "cat(\"number of clients paying more than 2 STD of the mean price :\",as.integer(count(df_Above_2STD)))"
   ]
  },
  {
   "cell_type": "markdown",
   "metadata": {},
   "source": [
    "#### Above mentioned is the number of clients whoes Total Gross revenue is 2 Standard deviation above mean\n",
    "- number of clients paying more than 2 STD of the mean price : 882"
   ]
  },
  {
   "cell_type": "markdown",
   "metadata": {},
   "source": [
    "### Q 6. Compute number of unique clients per state\n",
    "1. Normalize the data using min-max scaling\n",
    "2. Is there an association (correlation) between client volume and sales?"
   ]
  },
  {
   "cell_type": "markdown",
   "metadata": {},
   "source": [
    "### 1. Normalize the data using min-max scaling\n",
    "#### Solution:"
   ]
  },
  {
   "cell_type": "markdown",
   "metadata": {},
   "source": [
    "Rescaling (min-max normalization)\n",
    "Also known as min-max scaling or min-max normalization, is the simplest method and consists in rescaling the range of features to scale the range in [0, 1] or [−1, 1]. Selecting the target range depends on the nature of the data. The general formula for a min-max of [0, 1] is given as"
   ]
  },
  {
   "cell_type": "code",
   "execution_count": 254,
   "metadata": {},
   "outputs": [],
   "source": [
    "#Number of Unique clients per state\n",
    "df_unique_State = df %>% group_by(df$State) %>% \n",
    "summarise(n = n(),total_revenue = sum(Gross.profit), Average = total_revenue/n)"
   ]
  },
  {
   "cell_type": "code",
   "execution_count": 255,
   "metadata": {},
   "outputs": [
    {
     "data": {
      "text/html": [
       "<table>\n",
       "<thead><tr><th scope=col>df$State</th><th scope=col>n</th><th scope=col>total_revenue</th><th scope=col>Average</th></tr></thead>\n",
       "<tbody>\n",
       "\t<tr><td>AL      </td><td> 1587   </td><td> 26084  </td><td>16.43604</td></tr>\n",
       "\t<tr><td>AR      </td><td>  606   </td><td> 11667  </td><td>19.25248</td></tr>\n",
       "\t<tr><td>AZ      </td><td> 2022   </td><td> 32603  </td><td>16.12413</td></tr>\n",
       "\t<tr><td>CA      </td><td>10513   </td><td>184433  </td><td>17.54333</td></tr>\n",
       "\t<tr><td>CO      </td><td> 2153   </td><td> 41390  </td><td>19.22434</td></tr>\n",
       "\t<tr><td>CT      </td><td> 1382   </td><td> 31440  </td><td>22.74964</td></tr>\n",
       "\t<tr><td>DC      </td><td>  835   </td><td> 13803  </td><td>16.53054</td></tr>\n",
       "\t<tr><td>DE      </td><td>  347   </td><td>  6067  </td><td>17.48415</td></tr>\n",
       "\t<tr><td>FL      </td><td> 7057   </td><td>145930  </td><td>20.67876</td></tr>\n",
       "\t<tr><td>GA      </td><td> 2480   </td><td> 49976  </td><td>20.15161</td></tr>\n",
       "</tbody>\n",
       "</table>\n"
      ],
      "text/latex": [
       "\\begin{tabular}{r|llll}\n",
       " df\\$State & n & total\\_revenue & Average\\\\\n",
       "\\hline\n",
       "\t AL       &  1587    &  26084   & 16.43604\\\\\n",
       "\t AR       &   606    &  11667   & 19.25248\\\\\n",
       "\t AZ       &  2022    &  32603   & 16.12413\\\\\n",
       "\t CA       & 10513    & 184433   & 17.54333\\\\\n",
       "\t CO       &  2153    &  41390   & 19.22434\\\\\n",
       "\t CT       &  1382    &  31440   & 22.74964\\\\\n",
       "\t DC       &   835    &  13803   & 16.53054\\\\\n",
       "\t DE       &   347    &   6067   & 17.48415\\\\\n",
       "\t FL       &  7057    & 145930   & 20.67876\\\\\n",
       "\t GA       &  2480    &  49976   & 20.15161\\\\\n",
       "\\end{tabular}\n"
      ],
      "text/markdown": [
       "\n",
       "| df$State | n | total_revenue | Average |\n",
       "|---|---|---|---|\n",
       "| AL       |  1587    |  26084   | 16.43604 |\n",
       "| AR       |   606    |  11667   | 19.25248 |\n",
       "| AZ       |  2022    |  32603   | 16.12413 |\n",
       "| CA       | 10513    | 184433   | 17.54333 |\n",
       "| CO       |  2153    |  41390   | 19.22434 |\n",
       "| CT       |  1382    |  31440   | 22.74964 |\n",
       "| DC       |   835    |  13803   | 16.53054 |\n",
       "| DE       |   347    |   6067   | 17.48415 |\n",
       "| FL       |  7057    | 145930   | 20.67876 |\n",
       "| GA       |  2480    |  49976   | 20.15161 |\n",
       "\n"
      ],
      "text/plain": [
       "   df$State n     total_revenue Average \n",
       "1  AL        1587  26084        16.43604\n",
       "2  AR         606  11667        19.25248\n",
       "3  AZ        2022  32603        16.12413\n",
       "4  CA       10513 184433        17.54333\n",
       "5  CO        2153  41390        19.22434\n",
       "6  CT        1382  31440        22.74964\n",
       "7  DC         835  13803        16.53054\n",
       "8  DE         347   6067        17.48415\n",
       "9  FL        7057 145930        20.67876\n",
       "10 GA        2480  49976        20.15161"
      ]
     },
     "metadata": {},
     "output_type": "display_data"
    }
   ],
   "source": [
    "head(df_unique_State,10)"
   ]
  },
  {
   "cell_type": "markdown",
   "metadata": {},
   "source": [
    "#### in the above table x is the count of unique client Id in each State."
   ]
  },
  {
   "cell_type": "code",
   "execution_count": 256,
   "metadata": {},
   "outputs": [],
   "source": [
    "#function for Min Max Scaling\n",
    "normalize <- function(x)\n",
    "{\n",
    "    return((x- min(x)) /(max(x)-min(x)))\n",
    "}"
   ]
  },
  {
   "cell_type": "code",
   "execution_count": 171,
   "metadata": {},
   "outputs": [
    {
     "data": {
      "text/html": [
       "<table>\n",
       "<thead><tr><th></th><th scope=col>total_revenue</th></tr></thead>\n",
       "<tbody>\n",
       "\t<tr><th scope=row>30</th><td>0.1983452984</td></tr>\n",
       "\t<tr><th scope=row>31</th><td>0.0763825291</td></tr>\n",
       "\t<tr><th scope=row>32</th><td>0.0797821726</td></tr>\n",
       "\t<tr><th scope=row>33</th><td>0.3549477992</td></tr>\n",
       "\t<tr><th scope=row>34</th><td>0.3352736467</td></tr>\n",
       "\t<tr><th scope=row>35</th><td>0.0837581026</td></tr>\n",
       "\t<tr><th scope=row>36</th><td>0.3378557676</td></tr>\n",
       "\t<tr><th scope=row>37</th><td>0.2903545725</td></tr>\n",
       "\t<tr><th scope=row>38</th><td>0.0000000000</td></tr>\n",
       "\t<tr><th scope=row>39</th><td>0.0694581567</td></tr>\n",
       "\t<tr><th scope=row>40</th><td>0.0074917243</td></tr>\n",
       "\t<tr><th scope=row>41</th><td>0.1241606990</td></tr>\n",
       "\t<tr><th scope=row>42</th><td>0.8084495213</td></tr>\n",
       "\t<tr><th scope=row>43</th><td>0.0196652178</td></tr>\n",
       "\t<tr><th scope=row>44</th><td>0.3508914571</td></tr>\n",
       "\t<tr><th scope=row>45</th><td>0.0009738795</td></tr>\n",
       "\t<tr><th scope=row>46</th><td>1.0000000000</td></tr>\n",
       "\t<tr><th scope=row>47</th><td>0.1568169330</td></tr>\n",
       "\t<tr><th scope=row>48</th><td>0.0082288349</td></tr>\n",
       "\t<tr><th scope=row>49</th><td>0.0232837608</td></tr>\n",
       "</tbody>\n",
       "</table>\n"
      ],
      "text/latex": [
       "\\begin{tabular}{r|l}\n",
       "  & total\\_revenue\\\\\n",
       "\\hline\n",
       "\t30 & 0.1983452984\\\\\n",
       "\t31 & 0.0763825291\\\\\n",
       "\t32 & 0.0797821726\\\\\n",
       "\t33 & 0.3549477992\\\\\n",
       "\t34 & 0.3352736467\\\\\n",
       "\t35 & 0.0837581026\\\\\n",
       "\t36 & 0.3378557676\\\\\n",
       "\t37 & 0.2903545725\\\\\n",
       "\t38 & 0.0000000000\\\\\n",
       "\t39 & 0.0694581567\\\\\n",
       "\t40 & 0.0074917243\\\\\n",
       "\t41 & 0.1241606990\\\\\n",
       "\t42 & 0.8084495213\\\\\n",
       "\t43 & 0.0196652178\\\\\n",
       "\t44 & 0.3508914571\\\\\n",
       "\t45 & 0.0009738795\\\\\n",
       "\t46 & 1.0000000000\\\\\n",
       "\t47 & 0.1568169330\\\\\n",
       "\t48 & 0.0082288349\\\\\n",
       "\t49 & 0.0232837608\\\\\n",
       "\\end{tabular}\n"
      ],
      "text/markdown": [
       "\n",
       "| <!--/--> | total_revenue |\n",
       "|---|---|\n",
       "| 30 | 0.1983452984 |\n",
       "| 31 | 0.0763825291 |\n",
       "| 32 | 0.0797821726 |\n",
       "| 33 | 0.3549477992 |\n",
       "| 34 | 0.3352736467 |\n",
       "| 35 | 0.0837581026 |\n",
       "| 36 | 0.3378557676 |\n",
       "| 37 | 0.2903545725 |\n",
       "| 38 | 0.0000000000 |\n",
       "| 39 | 0.0694581567 |\n",
       "| 40 | 0.0074917243 |\n",
       "| 41 | 0.1241606990 |\n",
       "| 42 | 0.8084495213 |\n",
       "| 43 | 0.0196652178 |\n",
       "| 44 | 0.3508914571 |\n",
       "| 45 | 0.0009738795 |\n",
       "| 46 | 1.0000000000 |\n",
       "| 47 | 0.1568169330 |\n",
       "| 48 | 0.0082288349 |\n",
       "| 49 | 0.0232837608 |\n",
       "\n"
      ],
      "text/plain": [
       "   total_revenue\n",
       "30 0.1983452984 \n",
       "31 0.0763825291 \n",
       "32 0.0797821726 \n",
       "33 0.3549477992 \n",
       "34 0.3352736467 \n",
       "35 0.0837581026 \n",
       "36 0.3378557676 \n",
       "37 0.2903545725 \n",
       "38 0.0000000000 \n",
       "39 0.0694581567 \n",
       "40 0.0074917243 \n",
       "41 0.1241606990 \n",
       "42 0.8084495213 \n",
       "43 0.0196652178 \n",
       "44 0.3508914571 \n",
       "45 0.0009738795 \n",
       "46 1.0000000000 \n",
       "47 0.1568169330 \n",
       "48 0.0082288349 \n",
       "49 0.0232837608 "
      ]
     },
     "metadata": {},
     "output_type": "display_data"
    }
   ],
   "source": [
    "#Normalised total revenue from the above grouped Client with state\n",
    "tail(normalize(df_unique_State[,\"total_revenue\"]),20)"
   ]
  },
  {
   "cell_type": "markdown",
   "metadata": {},
   "source": [
    "#### Above is the list of normalised Total Revenue"
   ]
  },
  {
   "cell_type": "code",
   "execution_count": 263,
   "metadata": {},
   "outputs": [
    {
     "data": {
      "text/html": [
       "<table>\n",
       "<thead><tr><th scope=col>total_revenue</th><th scope=col>Average</th></tr></thead>\n",
       "<tbody>\n",
       "\t<tr><td>0.11415901  </td><td>6.898844e-06</td></tr>\n",
       "\t<tr><td>0.05102572  </td><td>1.923224e-05</td></tr>\n",
       "\t<tr><td>0.14270627  </td><td>5.532970e-06</td></tr>\n",
       "\t<tr><td>0.80758295  </td><td>1.174774e-05</td></tr>\n",
       "\t<tr><td>0.18118531  </td><td>1.910903e-05</td></tr>\n",
       "\t<tr><td>0.13761340  </td><td>3.454662e-05</td></tr>\n",
       "\t<tr><td>0.06037945  </td><td>7.312650e-06</td></tr>\n",
       "\t<tr><td>0.02650284  </td><td>1.148859e-05</td></tr>\n",
       "\t<tr><td>0.63897499  </td><td>2.547806e-05</td></tr>\n",
       "\t<tr><td>0.21878414  </td><td>2.316965e-05</td></tr>\n",
       "</tbody>\n",
       "</table>\n"
      ],
      "text/latex": [
       "\\begin{tabular}{r|ll}\n",
       " total\\_revenue & Average\\\\\n",
       "\\hline\n",
       "\t 0.11415901   & 6.898844e-06\\\\\n",
       "\t 0.05102572   & 1.923224e-05\\\\\n",
       "\t 0.14270627   & 5.532970e-06\\\\\n",
       "\t 0.80758295   & 1.174774e-05\\\\\n",
       "\t 0.18118531   & 1.910903e-05\\\\\n",
       "\t 0.13761340   & 3.454662e-05\\\\\n",
       "\t 0.06037945   & 7.312650e-06\\\\\n",
       "\t 0.02650284   & 1.148859e-05\\\\\n",
       "\t 0.63897499   & 2.547806e-05\\\\\n",
       "\t 0.21878414   & 2.316965e-05\\\\\n",
       "\\end{tabular}\n"
      ],
      "text/markdown": [
       "\n",
       "| total_revenue | Average |\n",
       "|---|---|\n",
       "| 0.11415901   | 6.898844e-06 |\n",
       "| 0.05102572   | 1.923224e-05 |\n",
       "| 0.14270627   | 5.532970e-06 |\n",
       "| 0.80758295   | 1.174774e-05 |\n",
       "| 0.18118531   | 1.910903e-05 |\n",
       "| 0.13761340   | 3.454662e-05 |\n",
       "| 0.06037945   | 7.312650e-06 |\n",
       "| 0.02650284   | 1.148859e-05 |\n",
       "| 0.63897499   | 2.547806e-05 |\n",
       "| 0.21878414   | 2.316965e-05 |\n",
       "\n"
      ],
      "text/plain": [
       "   total_revenue Average     \n",
       "1  0.11415901    6.898844e-06\n",
       "2  0.05102572    1.923224e-05\n",
       "3  0.14270627    5.532970e-06\n",
       "4  0.80758295    1.174774e-05\n",
       "5  0.18118531    1.910903e-05\n",
       "6  0.13761340    3.454662e-05\n",
       "7  0.06037945    7.312650e-06\n",
       "8  0.02650284    1.148859e-05\n",
       "9  0.63897499    2.547806e-05\n",
       "10 0.21878414    2.316965e-05"
      ]
     },
     "metadata": {},
     "output_type": "display_data"
    }
   ],
   "source": [
    "head(normalize(df_unique_State[,c(3,4)]),10)"
   ]
  },
  {
   "cell_type": "markdown",
   "metadata": {},
   "source": [
    "#### Normalised total revenue and Average revenue for the unique ID in states using normalise function "
   ]
  },
  {
   "cell_type": "markdown",
   "metadata": {},
   "source": [
    "### 2. Is there an association (correlation) between client volume and sales?\n",
    "#### Solution:"
   ]
  },
  {
   "cell_type": "code",
   "execution_count": 264,
   "metadata": {},
   "outputs": [],
   "source": [
    "df_unique_State= df_unique_State[order(df_unique_State$n),]"
   ]
  },
  {
   "cell_type": "code",
   "execution_count": 265,
   "metadata": {
    "scrolled": false
   },
   "outputs": [
    {
     "data": {
      "image/png": "[encoded data removed]",
      "text/plain": [
       "plot without title"
      ]
     },
     "metadata": {},
     "output_type": "display_data"
    }
   ],
   "source": [
    "ggplot(data = df_unique_State)+ geom_line(aes(x = df_unique_State$n,y=df_unique_State$total_revenue)) + \n",
    "ggtitle(\"Count of client in a state vs total revenue\")"
   ]
  },
  {
   "cell_type": "markdown",
   "metadata": {},
   "source": [
    "### *Yes, there is somewhat correlation between client volume and sales. From the above data it is clear that with increase in number of unique clients in each states the total revenue increases as well*"
   ]
  },
  {
   "cell_type": "code",
   "execution_count": null,
   "metadata": {},
   "outputs": [],
   "source": []
  }
 ],
 "metadata": {
  "kernelspec": {
   "display_name": "R",
   "language": "R",
   "name": "ir"
  },
  "language_info": {
   "codemirror_mode": "r",
   "file_extension": ".r",
   "mimetype": "text/x-r-source",
   "name": "R",
   "pygments_lexer": "r",
   "version": "3.6.1"
  }
 },
 "nbformat": 4,
 "nbformat_minor": 2
}
